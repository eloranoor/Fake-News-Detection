{
  "cells": [
    {
      "cell_type": "markdown",
      "metadata": {
        "id": "yk49HshS2Zib"
      },
      "source": [
        "#**Project Name: Fake News Detection**\n",
        "\n",
        "**Section:** 10\n",
        "\n",
        "**Group:** 04\n",
        "\n",
        "**Dataset:** https://www.kaggle.com/datasets/jruvika/fake-news-detection?fbclid=IwAR0EVeWhSKNM62VU7Tq6UXnEQsSqIhbKDq8gSoQGdzbx4Xb_wG3sMcmqYlw"
      ]
    },
    {
      "cell_type": "markdown",
      "metadata": {
        "id": "Rlin35um2Qua"
      },
      "source": [
        "**Group Members:**\n",
        "\n",
        "Meherin Majid Piper (ID: 21101146)\n",
        "\n",
        "Kohinoor Sultana Elora (ID: 21101147)\n",
        "\n",
        "Saowmi Mehjabin (ID: 21101153)\n",
        "\n",
        "Sharon Rose Sarker (ID: 21101161)"
      ]
    },
    {
      "cell_type": "code",
      "execution_count": null,
      "metadata": {
        "id": "yF58vvxpnv6z"
      },
      "outputs": [],
      "source": [
        "import pandas as pd\n",
        "import numpy as np\n",
        "import matplotlib.pyplot as plt"
      ]
    },
    {
      "cell_type": "code",
      "execution_count": null,
      "metadata": {
        "id": "g67SlE-2n_oc",
        "colab": {
          "base_uri": "https://localhost:8080/"
        },
        "outputId": "a02f148f-1e4c-4f8a-ac2b-0620571d8f56"
      },
      "outputs": [
        {
          "output_type": "stream",
          "name": "stdout",
          "text": [
            "Drive already mounted at /content/drive; to attempt to forcibly remount, call drive.mount(\"/content/drive\", force_remount=True).\n"
          ]
        }
      ],
      "source": [
        "from google.colab import drive\n",
        "drive.mount('/content/drive')"
      ]
    },
    {
      "cell_type": "code",
      "execution_count": null,
      "metadata": {
        "colab": {
          "base_uri": "https://localhost:8080/"
        },
        "id": "sepmZnHA0_T-",
        "outputId": "0eda7ae6-5c8f-44ce-80c8-1c0f1c4c09aa"
      },
      "outputs": [
        {
          "output_type": "stream",
          "name": "stdout",
          "text": [
            "<class 'pandas.core.frame.DataFrame'>\n",
            "RangeIndex: 4009 entries, 0 to 4008\n",
            "Data columns (total 4 columns):\n",
            " #   Column    Non-Null Count  Dtype \n",
            "---  ------    --------------  ----- \n",
            " 0   URLs      4009 non-null   object\n",
            " 1   Headline  4009 non-null   object\n",
            " 2   Body      3988 non-null   object\n",
            " 3   Label     4009 non-null   int64 \n",
            "dtypes: int64(1), object(3)\n",
            "memory usage: 125.4+ KB\n"
          ]
        }
      ],
      "source": [
        "df = pd.read_csv('/content/drive/MyDrive/data.csv')\n",
        "df.info()"
      ]
    },
    {
      "cell_type": "markdown",
      "metadata": {
        "id": "8nBcf35Hz4KM"
      },
      "source": [
        "**Data Pre-processing**"
      ]
    },
    {
      "cell_type": "code",
      "execution_count": null,
      "metadata": {
        "colab": {
          "base_uri": "https://localhost:8080/",
          "height": 206
        },
        "id": "X6TlRUWhoR5w",
        "outputId": "66333425-cf4a-4c35-9a25-4b9fac220a9e"
      },
      "outputs": [
        {
          "output_type": "execute_result",
          "data": {
            "text/plain": [
              "                                                URLs  \\\n",
              "0  http://www.bbc.com/news/world-us-canada-414191...   \n",
              "1  https://www.reuters.com/article/us-filmfestiva...   \n",
              "2  https://www.nytimes.com/2017/10/09/us/politics...   \n",
              "3  https://www.reuters.com/article/us-mexico-oil-...   \n",
              "4  http://www.cnn.com/videos/cnnmoney/2017/10/08/...   \n",
              "\n",
              "                                            Headline  \\\n",
              "0         Four ways Bob Corker skewered Donald Trump   \n",
              "1  Linklater's war veteran comedy speaks to moder...   \n",
              "2  Trump’s Fight With Corker Jeopardizes His Legi...   \n",
              "3  Egypt's Cheiron wins tie-up with Pemex for Mex...   \n",
              "4        Jason Aldean opens 'SNL' with Vegas tribute   \n",
              "\n",
              "                                                Body  Label  \n",
              "0  Image copyright Getty Images\\nOn Sunday mornin...      1  \n",
              "1  LONDON (Reuters) - “Last Flag Flying”, a comed...      1  \n",
              "2  The feud broke into public view last week when...      1  \n",
              "3  MEXICO CITY (Reuters) - Egypt’s Cheiron Holdin...      1  \n",
              "4  Country singer Jason Aldean, who was performin...      1  "
            ],
            "text/html": [
              "\n",
              "  <div id=\"df-ec01f7a9-6fd7-4fc1-9f8c-616037a28444\" class=\"colab-df-container\">\n",
              "    <div>\n",
              "<style scoped>\n",
              "    .dataframe tbody tr th:only-of-type {\n",
              "        vertical-align: middle;\n",
              "    }\n",
              "\n",
              "    .dataframe tbody tr th {\n",
              "        vertical-align: top;\n",
              "    }\n",
              "\n",
              "    .dataframe thead th {\n",
              "        text-align: right;\n",
              "    }\n",
              "</style>\n",
              "<table border=\"1\" class=\"dataframe\">\n",
              "  <thead>\n",
              "    <tr style=\"text-align: right;\">\n",
              "      <th></th>\n",
              "      <th>URLs</th>\n",
              "      <th>Headline</th>\n",
              "      <th>Body</th>\n",
              "      <th>Label</th>\n",
              "    </tr>\n",
              "  </thead>\n",
              "  <tbody>\n",
              "    <tr>\n",
              "      <th>0</th>\n",
              "      <td>http://www.bbc.com/news/world-us-canada-414191...</td>\n",
              "      <td>Four ways Bob Corker skewered Donald Trump</td>\n",
              "      <td>Image copyright Getty Images\\nOn Sunday mornin...</td>\n",
              "      <td>1</td>\n",
              "    </tr>\n",
              "    <tr>\n",
              "      <th>1</th>\n",
              "      <td>https://www.reuters.com/article/us-filmfestiva...</td>\n",
              "      <td>Linklater's war veteran comedy speaks to moder...</td>\n",
              "      <td>LONDON (Reuters) - “Last Flag Flying”, a comed...</td>\n",
              "      <td>1</td>\n",
              "    </tr>\n",
              "    <tr>\n",
              "      <th>2</th>\n",
              "      <td>https://www.nytimes.com/2017/10/09/us/politics...</td>\n",
              "      <td>Trump’s Fight With Corker Jeopardizes His Legi...</td>\n",
              "      <td>The feud broke into public view last week when...</td>\n",
              "      <td>1</td>\n",
              "    </tr>\n",
              "    <tr>\n",
              "      <th>3</th>\n",
              "      <td>https://www.reuters.com/article/us-mexico-oil-...</td>\n",
              "      <td>Egypt's Cheiron wins tie-up with Pemex for Mex...</td>\n",
              "      <td>MEXICO CITY (Reuters) - Egypt’s Cheiron Holdin...</td>\n",
              "      <td>1</td>\n",
              "    </tr>\n",
              "    <tr>\n",
              "      <th>4</th>\n",
              "      <td>http://www.cnn.com/videos/cnnmoney/2017/10/08/...</td>\n",
              "      <td>Jason Aldean opens 'SNL' with Vegas tribute</td>\n",
              "      <td>Country singer Jason Aldean, who was performin...</td>\n",
              "      <td>1</td>\n",
              "    </tr>\n",
              "  </tbody>\n",
              "</table>\n",
              "</div>\n",
              "    <div class=\"colab-df-buttons\">\n",
              "\n",
              "  <div class=\"colab-df-container\">\n",
              "    <button class=\"colab-df-convert\" onclick=\"convertToInteractive('df-ec01f7a9-6fd7-4fc1-9f8c-616037a28444')\"\n",
              "            title=\"Convert this dataframe to an interactive table.\"\n",
              "            style=\"display:none;\">\n",
              "\n",
              "  <svg xmlns=\"http://www.w3.org/2000/svg\" height=\"24px\" viewBox=\"0 -960 960 960\">\n",
              "    <path d=\"M120-120v-720h720v720H120Zm60-500h600v-160H180v160Zm220 220h160v-160H400v160Zm0 220h160v-160H400v160ZM180-400h160v-160H180v160Zm440 0h160v-160H620v160ZM180-180h160v-160H180v160Zm440 0h160v-160H620v160Z\"/>\n",
              "  </svg>\n",
              "    </button>\n",
              "\n",
              "  <style>\n",
              "    .colab-df-container {\n",
              "      display:flex;\n",
              "      gap: 12px;\n",
              "    }\n",
              "\n",
              "    .colab-df-convert {\n",
              "      background-color: #E8F0FE;\n",
              "      border: none;\n",
              "      border-radius: 50%;\n",
              "      cursor: pointer;\n",
              "      display: none;\n",
              "      fill: #1967D2;\n",
              "      height: 32px;\n",
              "      padding: 0 0 0 0;\n",
              "      width: 32px;\n",
              "    }\n",
              "\n",
              "    .colab-df-convert:hover {\n",
              "      background-color: #E2EBFA;\n",
              "      box-shadow: 0px 1px 2px rgba(60, 64, 67, 0.3), 0px 1px 3px 1px rgba(60, 64, 67, 0.15);\n",
              "      fill: #174EA6;\n",
              "    }\n",
              "\n",
              "    .colab-df-buttons div {\n",
              "      margin-bottom: 4px;\n",
              "    }\n",
              "\n",
              "    [theme=dark] .colab-df-convert {\n",
              "      background-color: #3B4455;\n",
              "      fill: #D2E3FC;\n",
              "    }\n",
              "\n",
              "    [theme=dark] .colab-df-convert:hover {\n",
              "      background-color: #434B5C;\n",
              "      box-shadow: 0px 1px 3px 1px rgba(0, 0, 0, 0.15);\n",
              "      filter: drop-shadow(0px 1px 2px rgba(0, 0, 0, 0.3));\n",
              "      fill: #FFFFFF;\n",
              "    }\n",
              "  </style>\n",
              "\n",
              "    <script>\n",
              "      const buttonEl =\n",
              "        document.querySelector('#df-ec01f7a9-6fd7-4fc1-9f8c-616037a28444 button.colab-df-convert');\n",
              "      buttonEl.style.display =\n",
              "        google.colab.kernel.accessAllowed ? 'block' : 'none';\n",
              "\n",
              "      async function convertToInteractive(key) {\n",
              "        const element = document.querySelector('#df-ec01f7a9-6fd7-4fc1-9f8c-616037a28444');\n",
              "        const dataTable =\n",
              "          await google.colab.kernel.invokeFunction('convertToInteractive',\n",
              "                                                    [key], {});\n",
              "        if (!dataTable) return;\n",
              "\n",
              "        const docLinkHtml = 'Like what you see? Visit the ' +\n",
              "          '<a target=\"_blank\" href=https://colab.research.google.com/notebooks/data_table.ipynb>data table notebook</a>'\n",
              "          + ' to learn more about interactive tables.';\n",
              "        element.innerHTML = '';\n",
              "        dataTable['output_type'] = 'display_data';\n",
              "        await google.colab.output.renderOutput(dataTable, element);\n",
              "        const docLink = document.createElement('div');\n",
              "        docLink.innerHTML = docLinkHtml;\n",
              "        element.appendChild(docLink);\n",
              "      }\n",
              "    </script>\n",
              "  </div>\n",
              "\n",
              "\n",
              "<div id=\"df-c1b5020b-3abf-442a-a6cd-eed3e71aa8fd\">\n",
              "  <button class=\"colab-df-quickchart\" onclick=\"quickchart('df-c1b5020b-3abf-442a-a6cd-eed3e71aa8fd')\"\n",
              "            title=\"Suggest charts.\"\n",
              "            style=\"display:none;\">\n",
              "\n",
              "<svg xmlns=\"http://www.w3.org/2000/svg\" height=\"24px\"viewBox=\"0 0 24 24\"\n",
              "     width=\"24px\">\n",
              "    <g>\n",
              "        <path d=\"M19 3H5c-1.1 0-2 .9-2 2v14c0 1.1.9 2 2 2h14c1.1 0 2-.9 2-2V5c0-1.1-.9-2-2-2zM9 17H7v-7h2v7zm4 0h-2V7h2v10zm4 0h-2v-4h2v4z\"/>\n",
              "    </g>\n",
              "</svg>\n",
              "  </button>\n",
              "\n",
              "<style>\n",
              "  .colab-df-quickchart {\n",
              "    background-color: #E8F0FE;\n",
              "    border: none;\n",
              "    border-radius: 50%;\n",
              "    cursor: pointer;\n",
              "    display: none;\n",
              "    fill: #1967D2;\n",
              "    height: 32px;\n",
              "    padding: 0 0 0 0;\n",
              "    width: 32px;\n",
              "  }\n",
              "\n",
              "  .colab-df-quickchart:hover {\n",
              "    background-color: #E2EBFA;\n",
              "    box-shadow: 0px 1px 2px rgba(60, 64, 67, 0.3), 0px 1px 3px 1px rgba(60, 64, 67, 0.15);\n",
              "    fill: #174EA6;\n",
              "  }\n",
              "\n",
              "  [theme=dark] .colab-df-quickchart {\n",
              "    background-color: #3B4455;\n",
              "    fill: #D2E3FC;\n",
              "  }\n",
              "\n",
              "  [theme=dark] .colab-df-quickchart:hover {\n",
              "    background-color: #434B5C;\n",
              "    box-shadow: 0px 1px 3px 1px rgba(0, 0, 0, 0.15);\n",
              "    filter: drop-shadow(0px 1px 2px rgba(0, 0, 0, 0.3));\n",
              "    fill: #FFFFFF;\n",
              "  }\n",
              "</style>\n",
              "\n",
              "  <script>\n",
              "    async function quickchart(key) {\n",
              "      const charts = await google.colab.kernel.invokeFunction(\n",
              "          'suggestCharts', [key], {});\n",
              "    }\n",
              "    (() => {\n",
              "      let quickchartButtonEl =\n",
              "        document.querySelector('#df-c1b5020b-3abf-442a-a6cd-eed3e71aa8fd button');\n",
              "      quickchartButtonEl.style.display =\n",
              "        google.colab.kernel.accessAllowed ? 'block' : 'none';\n",
              "    })();\n",
              "  </script>\n",
              "</div>\n",
              "    </div>\n",
              "  </div>\n"
            ]
          },
          "metadata": {},
          "execution_count": 8
        }
      ],
      "source": [
        "df.head()"
      ]
    },
    {
      "cell_type": "code",
      "execution_count": null,
      "metadata": {
        "colab": {
          "base_uri": "https://localhost:8080/"
        },
        "id": "JN55kNwUoTrv",
        "outputId": "43f09860-6dc6-45a3-afdb-c9faacad63f2"
      },
      "outputs": [
        {
          "output_type": "stream",
          "name": "stdout",
          "text": [
            "Shape: (4009, 4)\n"
          ]
        }
      ],
      "source": [
        "print(f'Shape: {df.shape}')"
      ]
    },
    {
      "cell_type": "markdown",
      "metadata": {
        "id": "MMHaT2taoWZm"
      },
      "source": [
        "Number of Data Points: 4009\n",
        "\n",
        "Number of Features: 4"
      ]
    },
    {
      "cell_type": "code",
      "execution_count": null,
      "metadata": {
        "id": "UsJEAGZYoVIc"
      },
      "outputs": [],
      "source": [
        "df = df.drop(columns='Headline', axis=1)"
      ]
    },
    {
      "cell_type": "code",
      "execution_count": null,
      "metadata": {
        "colab": {
          "base_uri": "https://localhost:8080/"
        },
        "id": "p-xOH2JnohWt",
        "outputId": "d2ce4ae2-4f79-45ad-f882-76edf2ca0fa7"
      },
      "outputs": [
        {
          "output_type": "execute_result",
          "data": {
            "text/plain": [
              "URLs      0\n",
              "Body     21\n",
              "Label     0\n",
              "dtype: int64"
            ]
          },
          "metadata": {},
          "execution_count": 11
        }
      ],
      "source": [
        "#checking the null values\n",
        "df.isnull().sum()"
      ]
    },
    {
      "cell_type": "code",
      "execution_count": null,
      "metadata": {
        "id": "zqY12M1Sojrd"
      },
      "outputs": [],
      "source": [
        "#removing the null values\n",
        "\n",
        "df = df.dropna()"
      ]
    },
    {
      "cell_type": "code",
      "execution_count": null,
      "metadata": {
        "colab": {
          "base_uri": "https://localhost:8080/"
        },
        "id": "tWJ3CmB4olou",
        "outputId": "46a613ee-0b81-401b-84ae-1d09d8fb1597"
      },
      "outputs": [
        {
          "output_type": "execute_result",
          "data": {
            "text/plain": [
              "(3988, 3)"
            ]
          },
          "metadata": {},
          "execution_count": 13
        }
      ],
      "source": [
        "df.shape"
      ]
    },
    {
      "cell_type": "code",
      "execution_count": null,
      "metadata": {
        "colab": {
          "base_uri": "https://localhost:8080/",
          "height": 206
        },
        "id": "mCAddLkKont3",
        "outputId": "5d2821cb-c8e5-44b6-d5f7-b39db2fb7530"
      },
      "outputs": [
        {
          "output_type": "execute_result",
          "data": {
            "text/plain": [
              "                                                URLs  \\\n",
              "0  http://www.bbc.com/news/world-us-canada-414191...   \n",
              "1  https://www.reuters.com/article/us-filmfestiva...   \n",
              "2  https://www.nytimes.com/2017/10/09/us/politics...   \n",
              "3  https://www.reuters.com/article/us-mexico-oil-...   \n",
              "4  http://www.cnn.com/videos/cnnmoney/2017/10/08/...   \n",
              "\n",
              "                                                Body  Label  \n",
              "0  Image copyright Getty Images\\nOn Sunday mornin...      1  \n",
              "1  LONDON (Reuters) - “Last Flag Flying”, a comed...      1  \n",
              "2  The feud broke into public view last week when...      1  \n",
              "3  MEXICO CITY (Reuters) - Egypt’s Cheiron Holdin...      1  \n",
              "4  Country singer Jason Aldean, who was performin...      1  "
            ],
            "text/html": [
              "\n",
              "  <div id=\"df-52a04d2c-dabb-4992-957d-483f9a8bdcb4\" class=\"colab-df-container\">\n",
              "    <div>\n",
              "<style scoped>\n",
              "    .dataframe tbody tr th:only-of-type {\n",
              "        vertical-align: middle;\n",
              "    }\n",
              "\n",
              "    .dataframe tbody tr th {\n",
              "        vertical-align: top;\n",
              "    }\n",
              "\n",
              "    .dataframe thead th {\n",
              "        text-align: right;\n",
              "    }\n",
              "</style>\n",
              "<table border=\"1\" class=\"dataframe\">\n",
              "  <thead>\n",
              "    <tr style=\"text-align: right;\">\n",
              "      <th></th>\n",
              "      <th>URLs</th>\n",
              "      <th>Body</th>\n",
              "      <th>Label</th>\n",
              "    </tr>\n",
              "  </thead>\n",
              "  <tbody>\n",
              "    <tr>\n",
              "      <th>0</th>\n",
              "      <td>http://www.bbc.com/news/world-us-canada-414191...</td>\n",
              "      <td>Image copyright Getty Images\\nOn Sunday mornin...</td>\n",
              "      <td>1</td>\n",
              "    </tr>\n",
              "    <tr>\n",
              "      <th>1</th>\n",
              "      <td>https://www.reuters.com/article/us-filmfestiva...</td>\n",
              "      <td>LONDON (Reuters) - “Last Flag Flying”, a comed...</td>\n",
              "      <td>1</td>\n",
              "    </tr>\n",
              "    <tr>\n",
              "      <th>2</th>\n",
              "      <td>https://www.nytimes.com/2017/10/09/us/politics...</td>\n",
              "      <td>The feud broke into public view last week when...</td>\n",
              "      <td>1</td>\n",
              "    </tr>\n",
              "    <tr>\n",
              "      <th>3</th>\n",
              "      <td>https://www.reuters.com/article/us-mexico-oil-...</td>\n",
              "      <td>MEXICO CITY (Reuters) - Egypt’s Cheiron Holdin...</td>\n",
              "      <td>1</td>\n",
              "    </tr>\n",
              "    <tr>\n",
              "      <th>4</th>\n",
              "      <td>http://www.cnn.com/videos/cnnmoney/2017/10/08/...</td>\n",
              "      <td>Country singer Jason Aldean, who was performin...</td>\n",
              "      <td>1</td>\n",
              "    </tr>\n",
              "  </tbody>\n",
              "</table>\n",
              "</div>\n",
              "    <div class=\"colab-df-buttons\">\n",
              "\n",
              "  <div class=\"colab-df-container\">\n",
              "    <button class=\"colab-df-convert\" onclick=\"convertToInteractive('df-52a04d2c-dabb-4992-957d-483f9a8bdcb4')\"\n",
              "            title=\"Convert this dataframe to an interactive table.\"\n",
              "            style=\"display:none;\">\n",
              "\n",
              "  <svg xmlns=\"http://www.w3.org/2000/svg\" height=\"24px\" viewBox=\"0 -960 960 960\">\n",
              "    <path d=\"M120-120v-720h720v720H120Zm60-500h600v-160H180v160Zm220 220h160v-160H400v160Zm0 220h160v-160H400v160ZM180-400h160v-160H180v160Zm440 0h160v-160H620v160ZM180-180h160v-160H180v160Zm440 0h160v-160H620v160Z\"/>\n",
              "  </svg>\n",
              "    </button>\n",
              "\n",
              "  <style>\n",
              "    .colab-df-container {\n",
              "      display:flex;\n",
              "      gap: 12px;\n",
              "    }\n",
              "\n",
              "    .colab-df-convert {\n",
              "      background-color: #E8F0FE;\n",
              "      border: none;\n",
              "      border-radius: 50%;\n",
              "      cursor: pointer;\n",
              "      display: none;\n",
              "      fill: #1967D2;\n",
              "      height: 32px;\n",
              "      padding: 0 0 0 0;\n",
              "      width: 32px;\n",
              "    }\n",
              "\n",
              "    .colab-df-convert:hover {\n",
              "      background-color: #E2EBFA;\n",
              "      box-shadow: 0px 1px 2px rgba(60, 64, 67, 0.3), 0px 1px 3px 1px rgba(60, 64, 67, 0.15);\n",
              "      fill: #174EA6;\n",
              "    }\n",
              "\n",
              "    .colab-df-buttons div {\n",
              "      margin-bottom: 4px;\n",
              "    }\n",
              "\n",
              "    [theme=dark] .colab-df-convert {\n",
              "      background-color: #3B4455;\n",
              "      fill: #D2E3FC;\n",
              "    }\n",
              "\n",
              "    [theme=dark] .colab-df-convert:hover {\n",
              "      background-color: #434B5C;\n",
              "      box-shadow: 0px 1px 3px 1px rgba(0, 0, 0, 0.15);\n",
              "      filter: drop-shadow(0px 1px 2px rgba(0, 0, 0, 0.3));\n",
              "      fill: #FFFFFF;\n",
              "    }\n",
              "  </style>\n",
              "\n",
              "    <script>\n",
              "      const buttonEl =\n",
              "        document.querySelector('#df-52a04d2c-dabb-4992-957d-483f9a8bdcb4 button.colab-df-convert');\n",
              "      buttonEl.style.display =\n",
              "        google.colab.kernel.accessAllowed ? 'block' : 'none';\n",
              "\n",
              "      async function convertToInteractive(key) {\n",
              "        const element = document.querySelector('#df-52a04d2c-dabb-4992-957d-483f9a8bdcb4');\n",
              "        const dataTable =\n",
              "          await google.colab.kernel.invokeFunction('convertToInteractive',\n",
              "                                                    [key], {});\n",
              "        if (!dataTable) return;\n",
              "\n",
              "        const docLinkHtml = 'Like what you see? Visit the ' +\n",
              "          '<a target=\"_blank\" href=https://colab.research.google.com/notebooks/data_table.ipynb>data table notebook</a>'\n",
              "          + ' to learn more about interactive tables.';\n",
              "        element.innerHTML = '';\n",
              "        dataTable['output_type'] = 'display_data';\n",
              "        await google.colab.output.renderOutput(dataTable, element);\n",
              "        const docLink = document.createElement('div');\n",
              "        docLink.innerHTML = docLinkHtml;\n",
              "        element.appendChild(docLink);\n",
              "      }\n",
              "    </script>\n",
              "  </div>\n",
              "\n",
              "\n",
              "<div id=\"df-56b6e911-0316-4aa8-9212-d01a3bb6a204\">\n",
              "  <button class=\"colab-df-quickchart\" onclick=\"quickchart('df-56b6e911-0316-4aa8-9212-d01a3bb6a204')\"\n",
              "            title=\"Suggest charts.\"\n",
              "            style=\"display:none;\">\n",
              "\n",
              "<svg xmlns=\"http://www.w3.org/2000/svg\" height=\"24px\"viewBox=\"0 0 24 24\"\n",
              "     width=\"24px\">\n",
              "    <g>\n",
              "        <path d=\"M19 3H5c-1.1 0-2 .9-2 2v14c0 1.1.9 2 2 2h14c1.1 0 2-.9 2-2V5c0-1.1-.9-2-2-2zM9 17H7v-7h2v7zm4 0h-2V7h2v10zm4 0h-2v-4h2v4z\"/>\n",
              "    </g>\n",
              "</svg>\n",
              "  </button>\n",
              "\n",
              "<style>\n",
              "  .colab-df-quickchart {\n",
              "    background-color: #E8F0FE;\n",
              "    border: none;\n",
              "    border-radius: 50%;\n",
              "    cursor: pointer;\n",
              "    display: none;\n",
              "    fill: #1967D2;\n",
              "    height: 32px;\n",
              "    padding: 0 0 0 0;\n",
              "    width: 32px;\n",
              "  }\n",
              "\n",
              "  .colab-df-quickchart:hover {\n",
              "    background-color: #E2EBFA;\n",
              "    box-shadow: 0px 1px 2px rgba(60, 64, 67, 0.3), 0px 1px 3px 1px rgba(60, 64, 67, 0.15);\n",
              "    fill: #174EA6;\n",
              "  }\n",
              "\n",
              "  [theme=dark] .colab-df-quickchart {\n",
              "    background-color: #3B4455;\n",
              "    fill: #D2E3FC;\n",
              "  }\n",
              "\n",
              "  [theme=dark] .colab-df-quickchart:hover {\n",
              "    background-color: #434B5C;\n",
              "    box-shadow: 0px 1px 3px 1px rgba(0, 0, 0, 0.15);\n",
              "    filter: drop-shadow(0px 1px 2px rgba(0, 0, 0, 0.3));\n",
              "    fill: #FFFFFF;\n",
              "  }\n",
              "</style>\n",
              "\n",
              "  <script>\n",
              "    async function quickchart(key) {\n",
              "      const charts = await google.colab.kernel.invokeFunction(\n",
              "          'suggestCharts', [key], {});\n",
              "    }\n",
              "    (() => {\n",
              "      let quickchartButtonEl =\n",
              "        document.querySelector('#df-56b6e911-0316-4aa8-9212-d01a3bb6a204 button');\n",
              "      quickchartButtonEl.style.display =\n",
              "        google.colab.kernel.accessAllowed ? 'block' : 'none';\n",
              "    })();\n",
              "  </script>\n",
              "</div>\n",
              "    </div>\n",
              "  </div>\n"
            ]
          },
          "metadata": {},
          "execution_count": 14
        }
      ],
      "source": [
        "df.head()"
      ]
    },
    {
      "cell_type": "code",
      "execution_count": null,
      "metadata": {
        "colab": {
          "base_uri": "https://localhost:8080/"
        },
        "id": "Yafk6QShopqv",
        "outputId": "1a90038c-ba26-4afb-c761-9f81f24226c4"
      },
      "outputs": [
        {
          "output_type": "execute_result",
          "data": {
            "text/plain": [
              "0       False\n",
              "1       False\n",
              "2       False\n",
              "3       False\n",
              "4       False\n",
              "        ...  \n",
              "4003    False\n",
              "4004    False\n",
              "4005    False\n",
              "4007    False\n",
              "4008    False\n",
              "Name: Body, Length: 3988, dtype: bool"
            ]
          },
          "metadata": {},
          "execution_count": 15
        }
      ],
      "source": [
        "df.Body.isnull()"
      ]
    },
    {
      "cell_type": "code",
      "execution_count": null,
      "metadata": {
        "id": "Ys_KknUloreL"
      },
      "outputs": [],
      "source": [
        "#removing duplicates\n",
        "\n",
        "df.drop_duplicates(inplace=True)"
      ]
    },
    {
      "cell_type": "code",
      "execution_count": null,
      "metadata": {
        "id": "2AhWsNjVotWR"
      },
      "outputs": [],
      "source": [
        "df = df.reset_index(drop=True)"
      ]
    },
    {
      "cell_type": "code",
      "execution_count": null,
      "metadata": {
        "colab": {
          "base_uri": "https://localhost:8080/",
          "height": 423
        },
        "id": "WwTXcC4Eouv3",
        "outputId": "b6e88d91-78a9-498b-8065-4ba6a5970a13"
      },
      "outputs": [
        {
          "output_type": "execute_result",
          "data": {
            "text/plain": [
              "                                                   URLs  \\\n",
              "0     http://www.bbc.com/news/world-us-canada-414191...   \n",
              "1     https://www.reuters.com/article/us-filmfestiva...   \n",
              "2     https://www.nytimes.com/2017/10/09/us/politics...   \n",
              "3     https://www.reuters.com/article/us-mexico-oil-...   \n",
              "4     http://www.cnn.com/videos/cnnmoney/2017/10/08/...   \n",
              "...                                                 ...   \n",
              "3979  http://beforeitsnews.com/u-s-politics/2017/10/...   \n",
              "3980  http://beforeitsnews.com/sports/2017/09/trends...   \n",
              "3981  http://beforeitsnews.com/u-s-politics/2017/10/...   \n",
              "3982  https://www.reuters.com/article/us-china-pharm...   \n",
              "3983  http://beforeitsnews.com/u-s-politics/2017/10/...   \n",
              "\n",
              "                                                   Body  Label  \n",
              "0     Image copyright Getty Images\\nOn Sunday mornin...      1  \n",
              "1     LONDON (Reuters) - “Last Flag Flying”, a comed...      1  \n",
              "2     The feud broke into public view last week when...      1  \n",
              "3     MEXICO CITY (Reuters) - Egypt’s Cheiron Holdin...      1  \n",
              "4     Country singer Jason Aldean, who was performin...      1  \n",
              "...                                                 ...    ...  \n",
              "3979  Vietnam Is in Great Danger, You Must Publish a...      0  \n",
              "3980  Trends to Watch\\n% of readers think this story...      0  \n",
              "3981  Trump Jr. Is Soon To Give A 30-Minute Speech F...      0  \n",
              "3982  SHANGHAI (Reuters) - China said it plans to ac...      1  \n",
              "3983  Vice President Mike Pence Leaves NFL Game Beca...      0  \n",
              "\n",
              "[3984 rows x 3 columns]"
            ],
            "text/html": [
              "\n",
              "  <div id=\"df-ed51827d-d91a-48ae-b7bf-1440c0e38422\" class=\"colab-df-container\">\n",
              "    <div>\n",
              "<style scoped>\n",
              "    .dataframe tbody tr th:only-of-type {\n",
              "        vertical-align: middle;\n",
              "    }\n",
              "\n",
              "    .dataframe tbody tr th {\n",
              "        vertical-align: top;\n",
              "    }\n",
              "\n",
              "    .dataframe thead th {\n",
              "        text-align: right;\n",
              "    }\n",
              "</style>\n",
              "<table border=\"1\" class=\"dataframe\">\n",
              "  <thead>\n",
              "    <tr style=\"text-align: right;\">\n",
              "      <th></th>\n",
              "      <th>URLs</th>\n",
              "      <th>Body</th>\n",
              "      <th>Label</th>\n",
              "    </tr>\n",
              "  </thead>\n",
              "  <tbody>\n",
              "    <tr>\n",
              "      <th>0</th>\n",
              "      <td>http://www.bbc.com/news/world-us-canada-414191...</td>\n",
              "      <td>Image copyright Getty Images\\nOn Sunday mornin...</td>\n",
              "      <td>1</td>\n",
              "    </tr>\n",
              "    <tr>\n",
              "      <th>1</th>\n",
              "      <td>https://www.reuters.com/article/us-filmfestiva...</td>\n",
              "      <td>LONDON (Reuters) - “Last Flag Flying”, a comed...</td>\n",
              "      <td>1</td>\n",
              "    </tr>\n",
              "    <tr>\n",
              "      <th>2</th>\n",
              "      <td>https://www.nytimes.com/2017/10/09/us/politics...</td>\n",
              "      <td>The feud broke into public view last week when...</td>\n",
              "      <td>1</td>\n",
              "    </tr>\n",
              "    <tr>\n",
              "      <th>3</th>\n",
              "      <td>https://www.reuters.com/article/us-mexico-oil-...</td>\n",
              "      <td>MEXICO CITY (Reuters) - Egypt’s Cheiron Holdin...</td>\n",
              "      <td>1</td>\n",
              "    </tr>\n",
              "    <tr>\n",
              "      <th>4</th>\n",
              "      <td>http://www.cnn.com/videos/cnnmoney/2017/10/08/...</td>\n",
              "      <td>Country singer Jason Aldean, who was performin...</td>\n",
              "      <td>1</td>\n",
              "    </tr>\n",
              "    <tr>\n",
              "      <th>...</th>\n",
              "      <td>...</td>\n",
              "      <td>...</td>\n",
              "      <td>...</td>\n",
              "    </tr>\n",
              "    <tr>\n",
              "      <th>3979</th>\n",
              "      <td>http://beforeitsnews.com/u-s-politics/2017/10/...</td>\n",
              "      <td>Vietnam Is in Great Danger, You Must Publish a...</td>\n",
              "      <td>0</td>\n",
              "    </tr>\n",
              "    <tr>\n",
              "      <th>3980</th>\n",
              "      <td>http://beforeitsnews.com/sports/2017/09/trends...</td>\n",
              "      <td>Trends to Watch\\n% of readers think this story...</td>\n",
              "      <td>0</td>\n",
              "    </tr>\n",
              "    <tr>\n",
              "      <th>3981</th>\n",
              "      <td>http://beforeitsnews.com/u-s-politics/2017/10/...</td>\n",
              "      <td>Trump Jr. Is Soon To Give A 30-Minute Speech F...</td>\n",
              "      <td>0</td>\n",
              "    </tr>\n",
              "    <tr>\n",
              "      <th>3982</th>\n",
              "      <td>https://www.reuters.com/article/us-china-pharm...</td>\n",
              "      <td>SHANGHAI (Reuters) - China said it plans to ac...</td>\n",
              "      <td>1</td>\n",
              "    </tr>\n",
              "    <tr>\n",
              "      <th>3983</th>\n",
              "      <td>http://beforeitsnews.com/u-s-politics/2017/10/...</td>\n",
              "      <td>Vice President Mike Pence Leaves NFL Game Beca...</td>\n",
              "      <td>0</td>\n",
              "    </tr>\n",
              "  </tbody>\n",
              "</table>\n",
              "<p>3984 rows × 3 columns</p>\n",
              "</div>\n",
              "    <div class=\"colab-df-buttons\">\n",
              "\n",
              "  <div class=\"colab-df-container\">\n",
              "    <button class=\"colab-df-convert\" onclick=\"convertToInteractive('df-ed51827d-d91a-48ae-b7bf-1440c0e38422')\"\n",
              "            title=\"Convert this dataframe to an interactive table.\"\n",
              "            style=\"display:none;\">\n",
              "\n",
              "  <svg xmlns=\"http://www.w3.org/2000/svg\" height=\"24px\" viewBox=\"0 -960 960 960\">\n",
              "    <path d=\"M120-120v-720h720v720H120Zm60-500h600v-160H180v160Zm220 220h160v-160H400v160Zm0 220h160v-160H400v160ZM180-400h160v-160H180v160Zm440 0h160v-160H620v160ZM180-180h160v-160H180v160Zm440 0h160v-160H620v160Z\"/>\n",
              "  </svg>\n",
              "    </button>\n",
              "\n",
              "  <style>\n",
              "    .colab-df-container {\n",
              "      display:flex;\n",
              "      gap: 12px;\n",
              "    }\n",
              "\n",
              "    .colab-df-convert {\n",
              "      background-color: #E8F0FE;\n",
              "      border: none;\n",
              "      border-radius: 50%;\n",
              "      cursor: pointer;\n",
              "      display: none;\n",
              "      fill: #1967D2;\n",
              "      height: 32px;\n",
              "      padding: 0 0 0 0;\n",
              "      width: 32px;\n",
              "    }\n",
              "\n",
              "    .colab-df-convert:hover {\n",
              "      background-color: #E2EBFA;\n",
              "      box-shadow: 0px 1px 2px rgba(60, 64, 67, 0.3), 0px 1px 3px 1px rgba(60, 64, 67, 0.15);\n",
              "      fill: #174EA6;\n",
              "    }\n",
              "\n",
              "    .colab-df-buttons div {\n",
              "      margin-bottom: 4px;\n",
              "    }\n",
              "\n",
              "    [theme=dark] .colab-df-convert {\n",
              "      background-color: #3B4455;\n",
              "      fill: #D2E3FC;\n",
              "    }\n",
              "\n",
              "    [theme=dark] .colab-df-convert:hover {\n",
              "      background-color: #434B5C;\n",
              "      box-shadow: 0px 1px 3px 1px rgba(0, 0, 0, 0.15);\n",
              "      filter: drop-shadow(0px 1px 2px rgba(0, 0, 0, 0.3));\n",
              "      fill: #FFFFFF;\n",
              "    }\n",
              "  </style>\n",
              "\n",
              "    <script>\n",
              "      const buttonEl =\n",
              "        document.querySelector('#df-ed51827d-d91a-48ae-b7bf-1440c0e38422 button.colab-df-convert');\n",
              "      buttonEl.style.display =\n",
              "        google.colab.kernel.accessAllowed ? 'block' : 'none';\n",
              "\n",
              "      async function convertToInteractive(key) {\n",
              "        const element = document.querySelector('#df-ed51827d-d91a-48ae-b7bf-1440c0e38422');\n",
              "        const dataTable =\n",
              "          await google.colab.kernel.invokeFunction('convertToInteractive',\n",
              "                                                    [key], {});\n",
              "        if (!dataTable) return;\n",
              "\n",
              "        const docLinkHtml = 'Like what you see? Visit the ' +\n",
              "          '<a target=\"_blank\" href=https://colab.research.google.com/notebooks/data_table.ipynb>data table notebook</a>'\n",
              "          + ' to learn more about interactive tables.';\n",
              "        element.innerHTML = '';\n",
              "        dataTable['output_type'] = 'display_data';\n",
              "        await google.colab.output.renderOutput(dataTable, element);\n",
              "        const docLink = document.createElement('div');\n",
              "        docLink.innerHTML = docLinkHtml;\n",
              "        element.appendChild(docLink);\n",
              "      }\n",
              "    </script>\n",
              "  </div>\n",
              "\n",
              "\n",
              "<div id=\"df-3afe869e-5720-498a-9391-91663760b43d\">\n",
              "  <button class=\"colab-df-quickchart\" onclick=\"quickchart('df-3afe869e-5720-498a-9391-91663760b43d')\"\n",
              "            title=\"Suggest charts.\"\n",
              "            style=\"display:none;\">\n",
              "\n",
              "<svg xmlns=\"http://www.w3.org/2000/svg\" height=\"24px\"viewBox=\"0 0 24 24\"\n",
              "     width=\"24px\">\n",
              "    <g>\n",
              "        <path d=\"M19 3H5c-1.1 0-2 .9-2 2v14c0 1.1.9 2 2 2h14c1.1 0 2-.9 2-2V5c0-1.1-.9-2-2-2zM9 17H7v-7h2v7zm4 0h-2V7h2v10zm4 0h-2v-4h2v4z\"/>\n",
              "    </g>\n",
              "</svg>\n",
              "  </button>\n",
              "\n",
              "<style>\n",
              "  .colab-df-quickchart {\n",
              "    background-color: #E8F0FE;\n",
              "    border: none;\n",
              "    border-radius: 50%;\n",
              "    cursor: pointer;\n",
              "    display: none;\n",
              "    fill: #1967D2;\n",
              "    height: 32px;\n",
              "    padding: 0 0 0 0;\n",
              "    width: 32px;\n",
              "  }\n",
              "\n",
              "  .colab-df-quickchart:hover {\n",
              "    background-color: #E2EBFA;\n",
              "    box-shadow: 0px 1px 2px rgba(60, 64, 67, 0.3), 0px 1px 3px 1px rgba(60, 64, 67, 0.15);\n",
              "    fill: #174EA6;\n",
              "  }\n",
              "\n",
              "  [theme=dark] .colab-df-quickchart {\n",
              "    background-color: #3B4455;\n",
              "    fill: #D2E3FC;\n",
              "  }\n",
              "\n",
              "  [theme=dark] .colab-df-quickchart:hover {\n",
              "    background-color: #434B5C;\n",
              "    box-shadow: 0px 1px 3px 1px rgba(0, 0, 0, 0.15);\n",
              "    filter: drop-shadow(0px 1px 2px rgba(0, 0, 0, 0.3));\n",
              "    fill: #FFFFFF;\n",
              "  }\n",
              "</style>\n",
              "\n",
              "  <script>\n",
              "    async function quickchart(key) {\n",
              "      const charts = await google.colab.kernel.invokeFunction(\n",
              "          'suggestCharts', [key], {});\n",
              "    }\n",
              "    (() => {\n",
              "      let quickchartButtonEl =\n",
              "        document.querySelector('#df-3afe869e-5720-498a-9391-91663760b43d button');\n",
              "      quickchartButtonEl.style.display =\n",
              "        google.colab.kernel.accessAllowed ? 'block' : 'none';\n",
              "    })();\n",
              "  </script>\n",
              "</div>\n",
              "    </div>\n",
              "  </div>\n"
            ]
          },
          "metadata": {},
          "execution_count": 18
        }
      ],
      "source": [
        "df"
      ]
    },
    {
      "cell_type": "code",
      "execution_count": null,
      "metadata": {
        "colab": {
          "base_uri": "https://localhost:8080/"
        },
        "id": "cjdJaZmRowWz",
        "outputId": "3b61956c-4a27-48c9-dbe4-f2bf20ce2c11"
      },
      "outputs": [
        {
          "output_type": "execute_result",
          "data": {
            "text/plain": [
              "URLs     0\n",
              "Body     0\n",
              "Label    0\n",
              "dtype: int64"
            ]
          },
          "metadata": {},
          "execution_count": 19
        }
      ],
      "source": [
        "#rechecking for null values\n",
        "\n",
        "df.isnull().sum()"
      ]
    },
    {
      "cell_type": "code",
      "execution_count": null,
      "metadata": {
        "colab": {
          "base_uri": "https://localhost:8080/"
        },
        "id": "4FP8JjIJC8WE",
        "outputId": "1f6c80e0-93a7-4272-b272-28b20daa422f"
      },
      "outputs": [
        {
          "output_type": "execute_result",
          "data": {
            "text/plain": [
              "(3984, 3)"
            ]
          },
          "metadata": {},
          "execution_count": 20
        }
      ],
      "source": [
        "df.shape"
      ]
    },
    {
      "cell_type": "code",
      "execution_count": null,
      "metadata": {
        "colab": {
          "base_uri": "https://localhost:8080/"
        },
        "id": "WA-ubR8eoxxQ",
        "outputId": "68e698bc-660c-4012-c583-23e2a05bc762"
      },
      "outputs": [
        {
          "output_type": "stream",
          "name": "stdout",
          "text": [
            "Total Number of Real news: 1868\n",
            "Total Number of Fake news: 2116\n"
          ]
        }
      ],
      "source": [
        "realNumber = (df[\"Label\"]==1).sum()\n",
        "fakeNumber = (df[\"Label\"]==0).sum()\n",
        "\n",
        "print(f'Total Number of Real news: {realNumber}')\n",
        "print(f'Total Number of Fake news: {fakeNumber}')"
      ]
    },
    {
      "cell_type": "code",
      "execution_count": null,
      "metadata": {
        "id": "3AOfLDMKo4Hs"
      },
      "outputs": [],
      "source": [
        "import seaborn as sns"
      ]
    },
    {
      "cell_type": "code",
      "execution_count": null,
      "metadata": {
        "colab": {
          "base_uri": "https://localhost:8080/",
          "height": 701
        },
        "id": "lKyfPxFepPLW",
        "outputId": "c64f2f10-cbad-4b6e-f212-a905987be2a1"
      },
      "outputs": [
        {
          "output_type": "display_data",
          "data": {
            "text/plain": [
              "<Figure size 1000x800 with 2 Axes>"
            ],
            "image/png": "[encoded data removed]"
          },
          "metadata": {}
        }
      ],
      "source": [
        "numerical_data = df.select_dtypes(include=['float64', 'int64'])\n",
        "correlation_matrix = numerical_data.corr()\n",
        "\n",
        "plt.figure(figsize=(10, 8))\n",
        "sns.heatmap(correlation_matrix, annot=True, cmap=\"crest\")\n",
        "plt.title(\"Heatmap\", fontsize=16)\n",
        "plt.show()"
      ]
    },
    {
      "cell_type": "markdown",
      "metadata": {
        "id": "9UjXN_PDpXuD"
      },
      "source": [
        "**Data Visualizations:**"
      ]
    },
    {
      "cell_type": "code",
      "execution_count": null,
      "metadata": {
        "colab": {
          "base_uri": "https://localhost:8080/",
          "height": 472
        },
        "id": "IAex3ErnpQhM",
        "outputId": "b91bd07c-89ab-4e92-d6c5-75331ec1dd3f"
      },
      "outputs": [
        {
          "output_type": "display_data",
          "data": {
            "text/plain": [
              "<Figure size 640x480 with 1 Axes>"
            ],
            "image/png": "[encoded data removed]"
          },
          "metadata": {}
        }
      ],
      "source": [
        "#Barchart\n",
        "\n",
        "labels = [\"Fake news\", \"Real news\"]\n",
        "sns.countplot(x='Label', data=df, palette=\"crest\")\n",
        "plt.title('Bar Chart of Real and Fake News')\n",
        "plt.show()"
      ]
    },
    {
      "cell_type": "markdown",
      "metadata": {
        "id": "MyWR240apg3G"
      },
      "source": [
        "Here,\n",
        "\n",
        "Real News = 1\n",
        "\n",
        "Fake News = 0"
      ]
    },
    {
      "cell_type": "code",
      "execution_count": null,
      "metadata": {
        "colab": {
          "base_uri": "https://localhost:8080/",
          "height": 472
        },
        "id": "cMsXqpZHpiF5",
        "outputId": "2342e610-c3a7-4980-ec65-bed6dd20a0a9"
      },
      "outputs": [
        {
          "output_type": "display_data",
          "data": {
            "text/plain": [
              "<Figure size 640x480 with 1 Axes>"
            ],
            "image/png": "[encoded data removed]"
          },
          "metadata": {}
        }
      ],
      "source": [
        "#Histogram\n",
        "\n",
        "real_df = df.loc[df['Label']==1]\n",
        "fake_df = df.loc[df['Label']==0]\n",
        "\n",
        "real_lengths = real_df['Body'].apply(len)\n",
        "fake_lengths = fake_df['Body'].apply(len)\n",
        "\n",
        "plt.hist(real_lengths, bins=100, alpha=0.6, label='Real news', color=\"olive\")\n",
        "plt.hist(fake_lengths, bins=100, alpha=0.6, label='Fake news', color=\"teal\")\n",
        "plt.title('Text Lengths')\n",
        "plt.xlabel('Length')\n",
        "plt.ylabel('Count')\n",
        "plt.legend()\n",
        "plt.show()"
      ]
    },
    {
      "cell_type": "code",
      "source": [
        "y = np.array([realNumber, fakeNumber])\n",
        "mylabels = [\"Real News\", \"Fake News\"]\n",
        "myexplode = [0.2, 0]\n",
        "plt.pie(y, labels = mylabels, explode = myexplode, autopct='%1.2f%%', shadow = True, colors=['gold', 'orchid', ])\n",
        "plt.title(label=\"Percentage of the Real and Fake news According to the Dataset\", fontdict={\"fontsize\":16},pad=30)\n",
        "plt.axis('equal')\n",
        "plt.show()"
      ],
      "metadata": {
        "id": "gusmhCiv02V1",
        "outputId": "6a1aead6-5d19-485a-883b-e66f6eac0230",
        "colab": {
          "base_uri": "https://localhost:8080/",
          "height": 468
        }
      },
      "execution_count": null,
      "outputs": [
        {
          "output_type": "display_data",
          "data": {
            "text/plain": [
              "<Figure size 640x480 with 1 Axes>"
            ],
            "image/png": "[encoded data removed]"
          },
          "metadata": {}
        }
      ]
    },
    {
      "cell_type": "markdown",
      "metadata": {
        "id": "UhqTg94IqDAP"
      },
      "source": [
        "**Data Visualization of Most Frequently Used Words**"
      ]
    },
    {
      "cell_type": "code",
      "execution_count": null,
      "metadata": {
        "id": "zzjiFMENqchx"
      },
      "outputs": [],
      "source": [
        "import string\n",
        "import collections\n",
        "from wordcloud import WordCloud, STOPWORDS, ImageColorGenerator"
      ]
    },
    {
      "cell_type": "code",
      "execution_count": null,
      "metadata": {
        "id": "NjIic0c-qfiZ"
      },
      "outputs": [],
      "source": [
        "stopwords = set(STOPWORDS)\n",
        "stopwords.update([\"a\", \"told\", \"last\", \"an\", \"the\",\"states\", \"t\",\"first\", \"us\", \"new\", \"even\",\"and\", \"said\", \"s\", \"—\", \"but\", \"or\", \"one\",\"because\", \"trump’s\",\"as\", \"until\", \"while\", \"of\", \"at\", \"by\", \"for\", \"with\",\"white\", \"many\", \"former\", \"about\", \"against\", \"between\", \"into\", \"through\", \"during\", \"before\",\"said.\", \"mr.\", \"”\", \"people\", \"-\", \"two\", \"after\", \"above\", \"(reuters)\", \"below\", \"to\", \"from\", \"up\", \"down\", \"in\", \"out\", \"on\", \"off\", \"over\", \"under\", \"again\", \"further\", \"then\", \"once\", \"here\", \"there\", \"when\", \"where\", \"why\", \"how\", \"all\", \"any\", \"both\", \"each\", \"few\", \"more\", \"most\", \"other\", \"some\", \"such\", \"no\", \"nor\", \"not\", \"only\", \"own\", \"same\", \"so\", \"than\", \"too\", \"very\", \"can\", \"will\", \"just\"])"
      ]
    },
    {
      "cell_type": "code",
      "execution_count": null,
      "metadata": {
        "id": "z8iXxqykqjD3"
      },
      "outputs": [],
      "source": [
        "fake_df = df.loc[df['Label']==0]\n",
        "Body = ' '.join(text for text in fake_df['Body'])\n",
        "fake_text = Body.lower()\n",
        "ft = [word for word in fake_text.split() if word not in stopwords]\n",
        "countedWords = collections.Counter(ft)\n",
        "fakedata=[]\n",
        "fakewords = []\n",
        "FakewordAndCount = {}\n",
        "for letter, count in countedWords.most_common(9):\n",
        "    FakewordAndCount[letter] = count\n",
        "\n",
        "for i,j in FakewordAndCount.items():\n",
        "        fakedata.append([i,j])\n",
        "        fakewords.append(i)\n"
      ]
    },
    {
      "cell_type": "code",
      "execution_count": null,
      "metadata": {
        "id": "PYDwcGjuqmWj"
      },
      "outputs": [],
      "source": [
        "real_df = df.loc[df['Label']==1]\n",
        "Body = ' '.join(text for text in real_df['Body'])\n",
        "rtext = Body.lower()\n",
        "\n",
        "fdword = set(fakewords)\n",
        "realdata=[]\n",
        "rt = [word for word in rtext.split() if word in fdword]\n",
        "countedWords = collections.Counter(rt)\n",
        "\n",
        "RealwordAndCount = {}\n",
        "for letter, count in countedWords.most_common(9):\n",
        "    RealwordAndCount[letter] = count\n",
        "for i,j in RealwordAndCount.items():\n",
        "        realdata.append([i,j])"
      ]
    },
    {
      "cell_type": "code",
      "execution_count": null,
      "metadata": {
        "colab": {
          "base_uri": "https://localhost:8080/",
          "height": 300
        },
        "id": "cQAjr58YqoNC",
        "outputId": "8fcf8eec-c6c1-40b8-c796-d243fb9c6c1c"
      },
      "outputs": [
        {
          "output_type": "execute_result",
          "data": {
            "text/plain": [
              "      Word  realCount\n",
              "0      now        837\n",
              "1     game        552\n",
              "2     it’s        433\n",
              "3     week        381\n",
              "4        –        144\n",
              "5  content        110\n",
              "6  source:         49\n",
              "7  (before          1"
            ],
            "text/html": [
              "\n",
              "  <div id=\"df-7e8b92f8-dad2-4351-a144-538ffd67e960\" class=\"colab-df-container\">\n",
              "    <div>\n",
              "<style scoped>\n",
              "    .dataframe tbody tr th:only-of-type {\n",
              "        vertical-align: middle;\n",
              "    }\n",
              "\n",
              "    .dataframe tbody tr th {\n",
              "        vertical-align: top;\n",
              "    }\n",
              "\n",
              "    .dataframe thead th {\n",
              "        text-align: right;\n",
              "    }\n",
              "</style>\n",
              "<table border=\"1\" class=\"dataframe\">\n",
              "  <thead>\n",
              "    <tr style=\"text-align: right;\">\n",
              "      <th></th>\n",
              "      <th>Word</th>\n",
              "      <th>realCount</th>\n",
              "    </tr>\n",
              "  </thead>\n",
              "  <tbody>\n",
              "    <tr>\n",
              "      <th>0</th>\n",
              "      <td>now</td>\n",
              "      <td>837</td>\n",
              "    </tr>\n",
              "    <tr>\n",
              "      <th>1</th>\n",
              "      <td>game</td>\n",
              "      <td>552</td>\n",
              "    </tr>\n",
              "    <tr>\n",
              "      <th>2</th>\n",
              "      <td>it’s</td>\n",
              "      <td>433</td>\n",
              "    </tr>\n",
              "    <tr>\n",
              "      <th>3</th>\n",
              "      <td>week</td>\n",
              "      <td>381</td>\n",
              "    </tr>\n",
              "    <tr>\n",
              "      <th>4</th>\n",
              "      <td>–</td>\n",
              "      <td>144</td>\n",
              "    </tr>\n",
              "    <tr>\n",
              "      <th>5</th>\n",
              "      <td>content</td>\n",
              "      <td>110</td>\n",
              "    </tr>\n",
              "    <tr>\n",
              "      <th>6</th>\n",
              "      <td>source:</td>\n",
              "      <td>49</td>\n",
              "    </tr>\n",
              "    <tr>\n",
              "      <th>7</th>\n",
              "      <td>(before</td>\n",
              "      <td>1</td>\n",
              "    </tr>\n",
              "  </tbody>\n",
              "</table>\n",
              "</div>\n",
              "    <div class=\"colab-df-buttons\">\n",
              "\n",
              "  <div class=\"colab-df-container\">\n",
              "    <button class=\"colab-df-convert\" onclick=\"convertToInteractive('df-7e8b92f8-dad2-4351-a144-538ffd67e960')\"\n",
              "            title=\"Convert this dataframe to an interactive table.\"\n",
              "            style=\"display:none;\">\n",
              "\n",
              "  <svg xmlns=\"http://www.w3.org/2000/svg\" height=\"24px\" viewBox=\"0 -960 960 960\">\n",
              "    <path d=\"M120-120v-720h720v720H120Zm60-500h600v-160H180v160Zm220 220h160v-160H400v160Zm0 220h160v-160H400v160ZM180-400h160v-160H180v160Zm440 0h160v-160H620v160ZM180-180h160v-160H180v160Zm440 0h160v-160H620v160Z\"/>\n",
              "  </svg>\n",
              "    </button>\n",
              "\n",
              "  <style>\n",
              "    .colab-df-container {\n",
              "      display:flex;\n",
              "      gap: 12px;\n",
              "    }\n",
              "\n",
              "    .colab-df-convert {\n",
              "      background-color: #E8F0FE;\n",
              "      border: none;\n",
              "      border-radius: 50%;\n",
              "      cursor: pointer;\n",
              "      display: none;\n",
              "      fill: #1967D2;\n",
              "      height: 32px;\n",
              "      padding: 0 0 0 0;\n",
              "      width: 32px;\n",
              "    }\n",
              "\n",
              "    .colab-df-convert:hover {\n",
              "      background-color: #E2EBFA;\n",
              "      box-shadow: 0px 1px 2px rgba(60, 64, 67, 0.3), 0px 1px 3px 1px rgba(60, 64, 67, 0.15);\n",
              "      fill: #174EA6;\n",
              "    }\n",
              "\n",
              "    .colab-df-buttons div {\n",
              "      margin-bottom: 4px;\n",
              "    }\n",
              "\n",
              "    [theme=dark] .colab-df-convert {\n",
              "      background-color: #3B4455;\n",
              "      fill: #D2E3FC;\n",
              "    }\n",
              "\n",
              "    [theme=dark] .colab-df-convert:hover {\n",
              "      background-color: #434B5C;\n",
              "      box-shadow: 0px 1px 3px 1px rgba(0, 0, 0, 0.15);\n",
              "      filter: drop-shadow(0px 1px 2px rgba(0, 0, 0, 0.3));\n",
              "      fill: #FFFFFF;\n",
              "    }\n",
              "  </style>\n",
              "\n",
              "    <script>\n",
              "      const buttonEl =\n",
              "        document.querySelector('#df-7e8b92f8-dad2-4351-a144-538ffd67e960 button.colab-df-convert');\n",
              "      buttonEl.style.display =\n",
              "        google.colab.kernel.accessAllowed ? 'block' : 'none';\n",
              "\n",
              "      async function convertToInteractive(key) {\n",
              "        const element = document.querySelector('#df-7e8b92f8-dad2-4351-a144-538ffd67e960');\n",
              "        const dataTable =\n",
              "          await google.colab.kernel.invokeFunction('convertToInteractive',\n",
              "                                                    [key], {});\n",
              "        if (!dataTable) return;\n",
              "\n",
              "        const docLinkHtml = 'Like what you see? Visit the ' +\n",
              "          '<a target=\"_blank\" href=https://colab.research.google.com/notebooks/data_table.ipynb>data table notebook</a>'\n",
              "          + ' to learn more about interactive tables.';\n",
              "        element.innerHTML = '';\n",
              "        dataTable['output_type'] = 'display_data';\n",
              "        await google.colab.output.renderOutput(dataTable, element);\n",
              "        const docLink = document.createElement('div');\n",
              "        docLink.innerHTML = docLinkHtml;\n",
              "        element.appendChild(docLink);\n",
              "      }\n",
              "    </script>\n",
              "  </div>\n",
              "\n",
              "\n",
              "<div id=\"df-4e13ce69-22e3-4031-8319-0d972bf47534\">\n",
              "  <button class=\"colab-df-quickchart\" onclick=\"quickchart('df-4e13ce69-22e3-4031-8319-0d972bf47534')\"\n",
              "            title=\"Suggest charts.\"\n",
              "            style=\"display:none;\">\n",
              "\n",
              "<svg xmlns=\"http://www.w3.org/2000/svg\" height=\"24px\"viewBox=\"0 0 24 24\"\n",
              "     width=\"24px\">\n",
              "    <g>\n",
              "        <path d=\"M19 3H5c-1.1 0-2 .9-2 2v14c0 1.1.9 2 2 2h14c1.1 0 2-.9 2-2V5c0-1.1-.9-2-2-2zM9 17H7v-7h2v7zm4 0h-2V7h2v10zm4 0h-2v-4h2v4z\"/>\n",
              "    </g>\n",
              "</svg>\n",
              "  </button>\n",
              "\n",
              "<style>\n",
              "  .colab-df-quickchart {\n",
              "    background-color: #E8F0FE;\n",
              "    border: none;\n",
              "    border-radius: 50%;\n",
              "    cursor: pointer;\n",
              "    display: none;\n",
              "    fill: #1967D2;\n",
              "    height: 32px;\n",
              "    padding: 0 0 0 0;\n",
              "    width: 32px;\n",
              "  }\n",
              "\n",
              "  .colab-df-quickchart:hover {\n",
              "    background-color: #E2EBFA;\n",
              "    box-shadow: 0px 1px 2px rgba(60, 64, 67, 0.3), 0px 1px 3px 1px rgba(60, 64, 67, 0.15);\n",
              "    fill: #174EA6;\n",
              "  }\n",
              "\n",
              "  [theme=dark] .colab-df-quickchart {\n",
              "    background-color: #3B4455;\n",
              "    fill: #D2E3FC;\n",
              "  }\n",
              "\n",
              "  [theme=dark] .colab-df-quickchart:hover {\n",
              "    background-color: #434B5C;\n",
              "    box-shadow: 0px 1px 3px 1px rgba(0, 0, 0, 0.15);\n",
              "    filter: drop-shadow(0px 1px 2px rgba(0, 0, 0, 0.3));\n",
              "    fill: #FFFFFF;\n",
              "  }\n",
              "</style>\n",
              "\n",
              "  <script>\n",
              "    async function quickchart(key) {\n",
              "      const charts = await google.colab.kernel.invokeFunction(\n",
              "          'suggestCharts', [key], {});\n",
              "    }\n",
              "    (() => {\n",
              "      let quickchartButtonEl =\n",
              "        document.querySelector('#df-4e13ce69-22e3-4031-8319-0d972bf47534 button');\n",
              "      quickchartButtonEl.style.display =\n",
              "        google.colab.kernel.accessAllowed ? 'block' : 'none';\n",
              "    })();\n",
              "  </script>\n",
              "</div>\n",
              "    </div>\n",
              "  </div>\n"
            ]
          },
          "metadata": {},
          "execution_count": 31
        }
      ],
      "source": [
        "rdc = pd.DataFrame(realdata, columns=['Word', 'realCount'])\n",
        "rdc"
      ]
    },
    {
      "cell_type": "code",
      "execution_count": null,
      "metadata": {
        "colab": {
          "base_uri": "https://localhost:8080/",
          "height": 331
        },
        "id": "U2qz1paQqqKE",
        "outputId": "3ab2d266-9a06-4d0e-82cd-05846b738fba"
      },
      "outputs": [
        {
          "output_type": "execute_result",
          "data": {
            "text/plain": [
              "      Word  fakeCount\n",
              "0        –       4024\n",
              "1     game       1279\n",
              "2     week       1072\n",
              "3  (before       1056\n",
              "4    news)       1054\n",
              "5      now       1043\n",
              "6     it’s       1016\n",
              "7  source:        992\n",
              "8  content        950"
            ],
            "text/html": [
              "\n",
              "  <div id=\"df-50beb08a-4e7a-4d1a-aba9-cbfcd63d1a3a\" class=\"colab-df-container\">\n",
              "    <div>\n",
              "<style scoped>\n",
              "    .dataframe tbody tr th:only-of-type {\n",
              "        vertical-align: middle;\n",
              "    }\n",
              "\n",
              "    .dataframe tbody tr th {\n",
              "        vertical-align: top;\n",
              "    }\n",
              "\n",
              "    .dataframe thead th {\n",
              "        text-align: right;\n",
              "    }\n",
              "</style>\n",
              "<table border=\"1\" class=\"dataframe\">\n",
              "  <thead>\n",
              "    <tr style=\"text-align: right;\">\n",
              "      <th></th>\n",
              "      <th>Word</th>\n",
              "      <th>fakeCount</th>\n",
              "    </tr>\n",
              "  </thead>\n",
              "  <tbody>\n",
              "    <tr>\n",
              "      <th>0</th>\n",
              "      <td>–</td>\n",
              "      <td>4024</td>\n",
              "    </tr>\n",
              "    <tr>\n",
              "      <th>1</th>\n",
              "      <td>game</td>\n",
              "      <td>1279</td>\n",
              "    </tr>\n",
              "    <tr>\n",
              "      <th>2</th>\n",
              "      <td>week</td>\n",
              "      <td>1072</td>\n",
              "    </tr>\n",
              "    <tr>\n",
              "      <th>3</th>\n",
              "      <td>(before</td>\n",
              "      <td>1056</td>\n",
              "    </tr>\n",
              "    <tr>\n",
              "      <th>4</th>\n",
              "      <td>news)</td>\n",
              "      <td>1054</td>\n",
              "    </tr>\n",
              "    <tr>\n",
              "      <th>5</th>\n",
              "      <td>now</td>\n",
              "      <td>1043</td>\n",
              "    </tr>\n",
              "    <tr>\n",
              "      <th>6</th>\n",
              "      <td>it’s</td>\n",
              "      <td>1016</td>\n",
              "    </tr>\n",
              "    <tr>\n",
              "      <th>7</th>\n",
              "      <td>source:</td>\n",
              "      <td>992</td>\n",
              "    </tr>\n",
              "    <tr>\n",
              "      <th>8</th>\n",
              "      <td>content</td>\n",
              "      <td>950</td>\n",
              "    </tr>\n",
              "  </tbody>\n",
              "</table>\n",
              "</div>\n",
              "    <div class=\"colab-df-buttons\">\n",
              "\n",
              "  <div class=\"colab-df-container\">\n",
              "    <button class=\"colab-df-convert\" onclick=\"convertToInteractive('df-50beb08a-4e7a-4d1a-aba9-cbfcd63d1a3a')\"\n",
              "            title=\"Convert this dataframe to an interactive table.\"\n",
              "            style=\"display:none;\">\n",
              "\n",
              "  <svg xmlns=\"http://www.w3.org/2000/svg\" height=\"24px\" viewBox=\"0 -960 960 960\">\n",
              "    <path d=\"M120-120v-720h720v720H120Zm60-500h600v-160H180v160Zm220 220h160v-160H400v160Zm0 220h160v-160H400v160ZM180-400h160v-160H180v160Zm440 0h160v-160H620v160ZM180-180h160v-160H180v160Zm440 0h160v-160H620v160Z\"/>\n",
              "  </svg>\n",
              "    </button>\n",
              "\n",
              "  <style>\n",
              "    .colab-df-container {\n",
              "      display:flex;\n",
              "      gap: 12px;\n",
              "    }\n",
              "\n",
              "    .colab-df-convert {\n",
              "      background-color: #E8F0FE;\n",
              "      border: none;\n",
              "      border-radius: 50%;\n",
              "      cursor: pointer;\n",
              "      display: none;\n",
              "      fill: #1967D2;\n",
              "      height: 32px;\n",
              "      padding: 0 0 0 0;\n",
              "      width: 32px;\n",
              "    }\n",
              "\n",
              "    .colab-df-convert:hover {\n",
              "      background-color: #E2EBFA;\n",
              "      box-shadow: 0px 1px 2px rgba(60, 64, 67, 0.3), 0px 1px 3px 1px rgba(60, 64, 67, 0.15);\n",
              "      fill: #174EA6;\n",
              "    }\n",
              "\n",
              "    .colab-df-buttons div {\n",
              "      margin-bottom: 4px;\n",
              "    }\n",
              "\n",
              "    [theme=dark] .colab-df-convert {\n",
              "      background-color: #3B4455;\n",
              "      fill: #D2E3FC;\n",
              "    }\n",
              "\n",
              "    [theme=dark] .colab-df-convert:hover {\n",
              "      background-color: #434B5C;\n",
              "      box-shadow: 0px 1px 3px 1px rgba(0, 0, 0, 0.15);\n",
              "      filter: drop-shadow(0px 1px 2px rgba(0, 0, 0, 0.3));\n",
              "      fill: #FFFFFF;\n",
              "    }\n",
              "  </style>\n",
              "\n",
              "    <script>\n",
              "      const buttonEl =\n",
              "        document.querySelector('#df-50beb08a-4e7a-4d1a-aba9-cbfcd63d1a3a button.colab-df-convert');\n",
              "      buttonEl.style.display =\n",
              "        google.colab.kernel.accessAllowed ? 'block' : 'none';\n",
              "\n",
              "      async function convertToInteractive(key) {\n",
              "        const element = document.querySelector('#df-50beb08a-4e7a-4d1a-aba9-cbfcd63d1a3a');\n",
              "        const dataTable =\n",
              "          await google.colab.kernel.invokeFunction('convertToInteractive',\n",
              "                                                    [key], {});\n",
              "        if (!dataTable) return;\n",
              "\n",
              "        const docLinkHtml = 'Like what you see? Visit the ' +\n",
              "          '<a target=\"_blank\" href=https://colab.research.google.com/notebooks/data_table.ipynb>data table notebook</a>'\n",
              "          + ' to learn more about interactive tables.';\n",
              "        element.innerHTML = '';\n",
              "        dataTable['output_type'] = 'display_data';\n",
              "        await google.colab.output.renderOutput(dataTable, element);\n",
              "        const docLink = document.createElement('div');\n",
              "        docLink.innerHTML = docLinkHtml;\n",
              "        element.appendChild(docLink);\n",
              "      }\n",
              "    </script>\n",
              "  </div>\n",
              "\n",
              "\n",
              "<div id=\"df-1dd083ee-41ec-4c5f-a112-8bf129e80745\">\n",
              "  <button class=\"colab-df-quickchart\" onclick=\"quickchart('df-1dd083ee-41ec-4c5f-a112-8bf129e80745')\"\n",
              "            title=\"Suggest charts.\"\n",
              "            style=\"display:none;\">\n",
              "\n",
              "<svg xmlns=\"http://www.w3.org/2000/svg\" height=\"24px\"viewBox=\"0 0 24 24\"\n",
              "     width=\"24px\">\n",
              "    <g>\n",
              "        <path d=\"M19 3H5c-1.1 0-2 .9-2 2v14c0 1.1.9 2 2 2h14c1.1 0 2-.9 2-2V5c0-1.1-.9-2-2-2zM9 17H7v-7h2v7zm4 0h-2V7h2v10zm4 0h-2v-4h2v4z\"/>\n",
              "    </g>\n",
              "</svg>\n",
              "  </button>\n",
              "\n",
              "<style>\n",
              "  .colab-df-quickchart {\n",
              "    background-color: #E8F0FE;\n",
              "    border: none;\n",
              "    border-radius: 50%;\n",
              "    cursor: pointer;\n",
              "    display: none;\n",
              "    fill: #1967D2;\n",
              "    height: 32px;\n",
              "    padding: 0 0 0 0;\n",
              "    width: 32px;\n",
              "  }\n",
              "\n",
              "  .colab-df-quickchart:hover {\n",
              "    background-color: #E2EBFA;\n",
              "    box-shadow: 0px 1px 2px rgba(60, 64, 67, 0.3), 0px 1px 3px 1px rgba(60, 64, 67, 0.15);\n",
              "    fill: #174EA6;\n",
              "  }\n",
              "\n",
              "  [theme=dark] .colab-df-quickchart {\n",
              "    background-color: #3B4455;\n",
              "    fill: #D2E3FC;\n",
              "  }\n",
              "\n",
              "  [theme=dark] .colab-df-quickchart:hover {\n",
              "    background-color: #434B5C;\n",
              "    box-shadow: 0px 1px 3px 1px rgba(0, 0, 0, 0.15);\n",
              "    filter: drop-shadow(0px 1px 2px rgba(0, 0, 0, 0.3));\n",
              "    fill: #FFFFFF;\n",
              "  }\n",
              "</style>\n",
              "\n",
              "  <script>\n",
              "    async function quickchart(key) {\n",
              "      const charts = await google.colab.kernel.invokeFunction(\n",
              "          'suggestCharts', [key], {});\n",
              "    }\n",
              "    (() => {\n",
              "      let quickchartButtonEl =\n",
              "        document.querySelector('#df-1dd083ee-41ec-4c5f-a112-8bf129e80745 button');\n",
              "      quickchartButtonEl.style.display =\n",
              "        google.colab.kernel.accessAllowed ? 'block' : 'none';\n",
              "    })();\n",
              "  </script>\n",
              "</div>\n",
              "    </div>\n",
              "  </div>\n"
            ]
          },
          "metadata": {},
          "execution_count": 32
        }
      ],
      "source": [
        "fdc = pd.DataFrame(fakedata, columns=['Word', 'fakeCount'])\n",
        "fdc"
      ]
    },
    {
      "cell_type": "code",
      "execution_count": null,
      "metadata": {
        "id": "yTZcS8enrAQC"
      },
      "outputs": [],
      "source": [
        "df3 = pd.concat([fdc, rdc])"
      ]
    },
    {
      "cell_type": "code",
      "execution_count": null,
      "metadata": {
        "colab": {
          "base_uri": "https://localhost:8080/",
          "height": 449
        },
        "id": "VH7IZvlorDxB",
        "outputId": "ae6f8a83-71bb-44fe-ffef-d11249968e87"
      },
      "outputs": [
        {
          "output_type": "display_data",
          "data": {
            "text/plain": [
              "<Figure size 640x480 with 1 Axes>"
            ],
            "image/png": "[encoded data removed]"
          },
          "metadata": {}
        }
      ],
      "source": [
        "plt.xlabel(\"Word Count\")\n",
        "plt.ylabel(\"Top Frequently Used Word Based on Fake News\")\n",
        "plt.scatter(df3[\"fakeCount\"],df3[\"Word\"],c=\"red\", s=7.5)\n",
        "plt.scatter(df3[\"realCount\"],df3[\"Word\"],c=\"green\", s=7.5)\n",
        "plt.legend([\"Word Count in Fake news\", \"Word Count in Real News\"], facecolor='teal', loc='right')\n",
        "plt.show()"
      ]
    },
    {
      "cell_type": "markdown",
      "metadata": {
        "id": "jS8LKAZwrHyE"
      },
      "source": [
        "**Data Visualizations of Punctuation Used in Articles**"
      ]
    },
    {
      "cell_type": "code",
      "execution_count": null,
      "metadata": {
        "colab": {
          "base_uri": "https://localhost:8080/"
        },
        "id": "HszyM_8UrXeo",
        "outputId": "f1a1f3cb-5a76-4055-c6e7-fc58a0a9d8f6"
      },
      "outputs": [
        {
          "output_type": "stream",
          "name": "stderr",
          "text": [
            "<ipython-input-35-56b064648d1e>:1: SettingWithCopyWarning: \n",
            "A value is trying to be set on a copy of a slice from a DataFrame.\n",
            "Try using .loc[row_indexer,col_indexer] = value instead\n",
            "\n",
            "See the caveats in the documentation: https://pandas.pydata.org/pandas-docs/stable/user_guide/indexing.html#returning-a-view-versus-a-copy\n",
            "  real_df['Punctuation_Count'] = real_df['Body'].str.count(r'[^\\w\\s]')\n",
            "<ipython-input-35-56b064648d1e>:2: SettingWithCopyWarning: \n",
            "A value is trying to be set on a copy of a slice from a DataFrame.\n",
            "Try using .loc[row_indexer,col_indexer] = value instead\n",
            "\n",
            "See the caveats in the documentation: https://pandas.pydata.org/pandas-docs/stable/user_guide/indexing.html#returning-a-view-versus-a-copy\n",
            "  fake_df['Punctuation_Count'] = fake_df['Body'].str.count(r'[^\\w\\s]')\n"
          ]
        }
      ],
      "source": [
        "real_df['Punctuation_Count'] = real_df['Body'].str.count(r'[^\\w\\s]')\n",
        "fake_df['Punctuation_Count'] = fake_df['Body'].str.count(r'[^\\w\\s]')\n",
        "\n",
        "Rlist = real_df['Punctuation_Count'].tolist()\n",
        "Flist = fake_df['Punctuation_Count'].tolist()"
      ]
    },
    {
      "cell_type": "code",
      "execution_count": null,
      "metadata": {
        "colab": {
          "base_uri": "https://localhost:8080/"
        },
        "id": "zwVcOLjBuHzH",
        "outputId": "d14aec07-46db-4b11-8988-1294a5c68404"
      },
      "outputs": [
        {
          "output_type": "stream",
          "name": "stdout",
          "text": [
            "      SL. No.  fakePCount  realPCount\n",
            "0           0        40.0         NaN\n",
            "1           1       143.0         NaN\n",
            "2           2        50.0         NaN\n",
            "3           3       140.0         NaN\n",
            "4           4         4.0         NaN\n",
            "...       ...         ...         ...\n",
            "1863     1863         NaN       227.0\n",
            "1864     1864         NaN        73.0\n",
            "1865     1865         NaN       147.0\n",
            "1866     1866         NaN         4.0\n",
            "1867     1867         NaN        50.0\n",
            "\n",
            "[3984 rows x 3 columns]\n"
          ]
        }
      ],
      "source": [
        "rpc = pd.DataFrame(Rlist, columns=['realPCount'])\n",
        "rpc = rpc.reset_index()\n",
        "rpc.columns = ['SL. No.', 'realPCount']\n",
        "\n",
        "fpc = pd.DataFrame(Flist, columns=['fakePCount'])\n",
        "fpc = fpc.reset_index()\n",
        "fpc.columns = ['SL. No.', 'fakePCount']\n",
        "\n",
        "combo = pd.concat([fpc, rpc])\n",
        "\n",
        "\n",
        "print(combo)"
      ]
    },
    {
      "cell_type": "code",
      "execution_count": null,
      "metadata": {
        "colab": {
          "base_uri": "https://localhost:8080/",
          "height": 449
        },
        "id": "CQl-TbDhuSkD",
        "outputId": "504219f8-014e-4939-c6ef-cb4a3ebc1be9"
      },
      "outputs": [
        {
          "output_type": "display_data",
          "data": {
            "text/plain": [
              "<Figure size 640x480 with 1 Axes>"
            ],
            "image/png": "[encoded data removed]"
          },
          "metadata": {}
        }
      ],
      "source": [
        "#Scatter Plot\n",
        "\n",
        "plt.scatter(combo[\"SL. No.\"], combo[\"realPCount\"], c=\"yellow\", s=5.5, alpha=0.4)\n",
        "\n",
        "\n",
        "plt.scatter(combo[\"SL. No.\"], combo[\"fakePCount\"], c=\"teal\", s=5.5, alpha=0.4)\n",
        "\n",
        "plt.xlabel(\"Dataset Serial No.\")\n",
        "plt.ylabel(\"Amount of Punctuation Used\")\n",
        "plt.legend([\"Punctuation used in Fake news\", \"Punctuation used in Real news\"], facecolor='white', loc='upper right')\n",
        "plt.show()\n"
      ]
    },
    {
      "cell_type": "code",
      "execution_count": null,
      "metadata": {
        "colab": {
          "base_uri": "https://localhost:8080/"
        },
        "id": "bWVchMNUvcj4",
        "outputId": "547577cf-cb97-44b6-bf6e-1867a9c4123b"
      },
      "outputs": [
        {
          "output_type": "stream",
          "name": "stdout",
          "text": [
            "                                                   URLs  \\\n",
            "0     http://www.bbc.com/news/world-us-canada-414191...   \n",
            "1     https://www.reuters.com/article/us-filmfestiva...   \n",
            "2     https://www.nytimes.com/2017/10/09/us/politics...   \n",
            "3     https://www.reuters.com/article/us-mexico-oil-...   \n",
            "4     http://www.cnn.com/videos/cnnmoney/2017/10/08/...   \n",
            "...                                                 ...   \n",
            "3979  http://beforeitsnews.com/u-s-politics/2017/10/...   \n",
            "3980  http://beforeitsnews.com/sports/2017/09/trends...   \n",
            "3981  http://beforeitsnews.com/u-s-politics/2017/10/...   \n",
            "3982  https://www.reuters.com/article/us-china-pharm...   \n",
            "3983  http://beforeitsnews.com/u-s-politics/2017/10/...   \n",
            "\n",
            "                                                   Body  \n",
            "0     Image copyright Getty Images\\nOn Sunday mornin...  \n",
            "1     LONDON (Reuters) - “Last Flag Flying”, a comed...  \n",
            "2     The feud broke into public view last week when...  \n",
            "3     MEXICO CITY (Reuters) - Egypt’s Cheiron Holdin...  \n",
            "4     Country singer Jason Aldean, who was performin...  \n",
            "...                                                 ...  \n",
            "3979  Vietnam Is in Great Danger, You Must Publish a...  \n",
            "3980  Trends to Watch\\n% of readers think this story...  \n",
            "3981  Trump Jr. Is Soon To Give A 30-Minute Speech F...  \n",
            "3982  SHANGHAI (Reuters) - China said it plans to ac...  \n",
            "3983  Vice President Mike Pence Leaves NFL Game Beca...  \n",
            "\n",
            "[3984 rows x 2 columns]\n",
            "0       1\n",
            "1       1\n",
            "2       1\n",
            "3       1\n",
            "4       1\n",
            "       ..\n",
            "3979    0\n",
            "3980    0\n",
            "3981    0\n",
            "3982    1\n",
            "3983    0\n",
            "Name: Label, Length: 3984, dtype: int64\n"
          ]
        }
      ],
      "source": [
        "text_df = df.drop(columns='Label', axis=1)\n",
        "label_df = df['Label']\n",
        "\n",
        "print(text_df)\n",
        "print(label_df)"
      ]
    },
    {
      "cell_type": "markdown",
      "metadata": {
        "id": "YsQAi2fBu8BT"
      },
      "source": [
        "**Text Normalization:**"
      ]
    },
    {
      "cell_type": "code",
      "execution_count": null,
      "metadata": {
        "colab": {
          "base_uri": "https://localhost:8080/"
        },
        "id": "WMnzBwrCu9w2",
        "outputId": "29f90a44-74a6-4e1b-b3ca-b26fda3c5742"
      },
      "outputs": [
        {
          "output_type": "stream",
          "name": "stderr",
          "text": [
            "[nltk_data] Downloading package stopwords to /root/nltk_data...\n",
            "[nltk_data]   Unzipping corpora/stopwords.zip.\n",
            "[nltk_data] Downloading package punkt to /root/nltk_data...\n",
            "[nltk_data]   Unzipping tokenizers/punkt.zip.\n"
          ]
        }
      ],
      "source": [
        "import nltk\n",
        "import re\n",
        "nltk.download('stopwords')\n",
        "nltk.download('punkt')\n",
        "from nltk.tokenize import RegexpTokenizer\n",
        "from nltk.stem.porter import PorterStemmer\n",
        "from nltk.corpus import stopwords\n",
        "from sklearn.feature_extraction.text import TfidfVectorizer"
      ]
    },
    {
      "cell_type": "code",
      "execution_count": null,
      "metadata": {
        "id": "VnE8KdgAvAtn"
      },
      "outputs": [],
      "source": [
        "Pstemmer = PorterStemmer()\n",
        "Stopword = nltk.corpus.stopwords.words('english')"
      ]
    },
    {
      "cell_type": "code",
      "execution_count": null,
      "metadata": {
        "id": "ZxOrZ9dRvCB6"
      },
      "outputs": [],
      "source": [
        "def eliminateUrl(alteredText):\n",
        "    return re.sub(r'http\\S+', ' ', alteredText)\n",
        "\n",
        "def eliminatePunctuation(alteredText):\n",
        "  return re.sub(r'[^\\w\\s]', '', alteredText)\n",
        "\n",
        "def eliminateDigit(alteredText):\n",
        "  return re.sub('[^a-z]',' ', alteredText)\n",
        "\n",
        "def tokenize(alteredText):\n",
        "  tokenizer = RegexpTokenizer('[a-z]\\w+')\n",
        "  return tokenizer.tokenize(alteredText)\n",
        "\n",
        "def stem(alteredText):\n",
        "  alteredText = [Pstemmer.stem(i) for i in alteredText if i not in Stopword]\n",
        "  alteredText = ' '.join(alteredText)\n",
        "  return alteredText\n",
        "\n",
        "\n",
        "def wordPreprocessing(Text):\n",
        "    alteredText = Text.lower()\n",
        "    alteredText = eliminateUrl(alteredText)\n",
        "    alteredText = eliminatePunctuation(alteredText)\n",
        "    alteredText = eliminateDigit(alteredText)\n",
        "    alteredText = tokenize(alteredText)\n",
        "    alteredText = stem(alteredText)\n",
        "    return alteredText"
      ]
    },
    {
      "cell_type": "code",
      "execution_count": null,
      "metadata": {
        "id": "jG9k8cc0vCt4"
      },
      "outputs": [],
      "source": [
        "df['Body'] = df['Body'].apply(wordPreprocessing)"
      ]
    },
    {
      "cell_type": "code",
      "execution_count": null,
      "metadata": {
        "colab": {
          "base_uri": "https://localhost:8080/"
        },
        "id": "AQV1H5eivEjF",
        "outputId": "12f80587-3e39-4d81-bdbc-3a05839aac4d"
      },
      "outputs": [
        {
          "output_type": "stream",
          "name": "stdout",
          "text": [
            "0       imag copyright getti imag sunday morn donald t...\n",
            "1       london reuter last flag fli comedydrama vietna...\n",
            "2       feud broke public view last week mr corker sai...\n",
            "3       mexico citi reuter egypt cheiron hold limit ri...\n",
            "4       countri singer jason aldean perform la vega sh...\n",
            "                              ...                        \n",
            "3979    vietnam great danger must publish tell armi go...\n",
            "3980    trend watch reader think stori fact add two ce...\n",
            "3981    trump jr soon give minut speech reader think s...\n",
            "3982    shanghai reuter china said plan accept data ov...\n",
            "3983    vice presid mike penc leav nfl game antiameric...\n",
            "Name: Body, Length: 3984, dtype: object\n"
          ]
        }
      ],
      "source": [
        "print(df['Body'])"
      ]
    },
    {
      "cell_type": "code",
      "execution_count": null,
      "metadata": {
        "id": "_cnLavYyvGdN"
      },
      "outputs": [],
      "source": [
        "textList = df['Body'].values\n",
        "labelList = df['Label'].values"
      ]
    },
    {
      "cell_type": "code",
      "execution_count": null,
      "metadata": {
        "colab": {
          "base_uri": "https://localhost:8080/"
        },
        "id": "-jjCx7PfvHyo",
        "outputId": "e256148c-a19f-4e38-a6f4-8dafe9830ee3"
      },
      "outputs": [
        {
          "output_type": "stream",
          "name": "stdout",
          "text": [
            "['imag copyright getti imag sunday morn donald trump went twitter tirad member parti isnt exactli huge news far first time presid turn rhetor cannon rank time howev attack particularli bite person essenti call tennesse senat bob corker chair power senat foreign relat committe coward run reelect said mr corker beg presid endors refus give wrongli claim mr corker support iranian nuclear agreement polit accomplish unlik colleagu mr corker free worri immedi polit futur didnt hold tongu skip twitter post senbobcork shame white hous becom adult day care center someon obvious miss shift morn senat bob corker senbobcork octob report wasnt end though spoke new york time realli let presid four choic quot tennesse senat interview time particularli damn dont know presid tweet thing true know everyon know cant realli sugarcoat one mr corker flatout say presid liar everyon know senat particular challeng mr trump insist unsuccess plead endors accus much broader mr corker presid use someth akin alli tennessean mr trump short list vicepresid secretari state imag copyright getti imag imag caption bob corker trump campaign ralli juli day seemingli much like mr corker go anywher anytim soon although he run reelect hell senat chair power committe januari presid margin success chamber razorthin democrat continu stand togeth opposit afford lose two vote republican senat that healthcar reform collaps juli could bad news tax effort mr corker isnt go presid favour look except peopl vast major caucu understand deal frustrat congress grow republican feel presid inabl focu advanc agenda get sharpli divid parti come togeth plan repeal obamacar reform tax boost infrastructur spend challeng enough presid stir unrel controversi seemingli daili basi make thing harder one presid gift abil shake neg stori quickli move differ subject work brilliantli presidenti campaign less effect legisl slow grind imag copyright getti imag imag caption corker confirm hear secretari state rex tillerson month republican congress grumbl background among occasion someon like mr mcconnel lament presid doesnt understand senat work mr corker state loud clear what say almost everyon agre theyv kept silent still hope pass conserv legisl presid sign fear mr trump legion back primari challeng next year stay home gener elect calculu ever chang becom riskier stay silent speak mr trump real troubl lot peopl think kind good cop bad cop act underway that true time mr trump appear undercut secretari state rex tillerson other administr attempt use soft diplomaci deal rang intern crise war taliban afghanistan iran complianc multin nuclear agreement ongo disput qatar persian gulf neighbour unrest venezuela recent north korea continu ballist missil test target presid offhand remark twitter invect administr defend said part mr trump strategi updat version nixonera madman theori presid forc adversari give way fear unpredict us leader action mr corker isnt buy there strategi say possibl chao hope mr trump senior advis abl avoid know fact everi singl day white hous situat tri contain there grow collect john kelli facepalm photo serv testament chiefofstaff report frustrat deal presid mr trump goe offscript prais torchbear white nationalist ralli charlottesvil mr kelli captur close eye rub arch nose attempt stave migrain imag copyright reuter imag caption white hous chief staff john kelli look us presid donald trump speak campaign ralli presid call north korean leader crimin speech unit nation mr kelli straightup buri face hand white hous commun team often left scrambl tri explain refram indel presidenti joke remark directli contradict offici administr line even though mr kelli brought disciplin west wing staff presid still march beat drum continu unfett access phone twitter app bob corker latest person politician journalist sport star celebr feel mercuri presid uncontain ire'\n",
            " 'london reuter last flag fli comedydrama vietnam war veteran reson trump america despit perhap period set actor bryan cranston said sunday screen london film festiv set unit state decemb us forc iraq drag saddam hussein spider hole stori three age former servicemen reunit buri son one kill action presid donald trump say could total destroy north korea character dinner militari command calm storm cranston said last flag fli time remind effect normal american illadvis militari campaign think lot relev today sens today clear cut far intent govern militari cranston acclaim lead role tv drama break bad told reuter world war two good war clear present danger stop mad man sinc vietnam iraq lot question among troop citizen right thing purpos cast member bryan cranston director richard linklat pose festiv director clair stewart arriv premier last flag fli british film institut bfi london film festiv odeon leicest squar london britain octob reutersafolabi sotund last flag fli produc amazon studio direct cowritten richard linklat whose greatest critic acclaim naturalist sunset trilog boyhood slew oscar nomin linklat also made comedi includ school rock everybodi want skirtchas undergradu last flag fli fall somewher two genr cast member bryan cranston pose director richard linklat arriv premier last flag fli british film institut bfi london film festiv odeon leicest squar london britain octob reutersafolabi sotund drama comedi stem chemistri three lead play big hollywood name steve carel awkward shi one assum quiet withdrawn even loss son cranston play foulmouth harddrink bar owner best custom laurenc fishburn man found god becom evangel preacher prefer forget sex drug indulg back nam vaniti fair richard lawson said film abil honor footsoldi critic war sent fight could hit academi sweet spot satisfi conserv oldster younger leftier type critic said last flag fli lack light touch linklat best work guardian benjamin lee call halfbak tv movi masquerad oscarbait curiou misstep oscarnomin indi auteur write robin pomeroy edit david evan'\n",
            " 'feud broke public view last week mr corker said mr trump advis guard chao presid retali sunday say retir senat didnt gut run anoth term mr corker respond twitter hour later say white hous becom adult day care center unload interview new york time say public mani republican colleagu say privat presid danger errat treat high offic like realiti show contain staff reckless enough put countri path world war iii mr corker moder tempera well ideolog measur occasion critic mr trump month hope influenc foreign polici evid feel liber decid run third term incumb republican rush microphon echo comment monday sever made littl attempt hide irrit mr trump attack mr corker he import part team he particularli import part budget debat floor next week mr mcconnel said pointedli event hazard ky scott pruitt head environment protect agenc bob corker leader congress issu divers deficit reduct combat terror man unwav integr senat rob portman republican ohio said statement go accomplish econom nation secur agenda go work togeth period mr mcconnel associ blunter express leadership frustrat presid disrupt parti uniti republican push tax cut go hard matter said billi piper mr mcconnel former chief staff took guy one linchpin inciner reason advertis continu read main stori white hous spent monday tell alli mr corker respons fight mr trump senat attentionseek obstructionist newslett sign continu read main stori pleas verifi your robot click box invalid email address pleas reenter must select newslett subscrib sign agre receiv occasion updat special offer new york timess product servic thank subscrib error occur pleas tri later view new york time newslett find tweet like incred irrespons kellyann conway presid counselor told fox news refer mr corker post respons mr trump sunday add insult mainstream media presid detractor almost year elect still cant accept elect result add abil cover speak presid unit state way presid talk vice presid mike penc left defend mr trump call empti rhetor baseless attack say presid accomplish lot intern today nation stand without apolog leader free world mr penc said statement that american leadership world stage look like amount critic home diminish result mr trump grown frustrat senat republican includ lash mr mcconnel get job done legisl repeal presid barack obama health care program repeatedli block engag open conflict senat john mccain jeff flake arizona lindsey graham south carolina lisa murkowski alaska among other although monday went golf mr graham republican senat share mr trump frustrat gridlock senat want thing move quickli said senat thom tilli north carolina elect peopl frustrat lack result senat david perdu georgia anoth member class even outspoken vent fellow republican derail health care legisl peopl upset republican senat back agenda presid said mr trump former chief strategist stephen bannon act say presid interest organ rebellion republican establish recruit candid challeng incumb senat primari next year think presid trump behind close door mr bannon said fox news monday night refer mr corker comment call senat resign mr penc chief staff talk purg republican loyal mr trump may keep republican board even agre mr corker senat doubt presid ask john feeheri longtim republican congression aid that probabl true also larg irrelev he presid find way get stuff done otherwis face wrath voter someth bob corker longer worri effect mr mccain ms murkowski senat susan collin main alreadi free agent mani issu regular defect mr corker would make presid abil pass legisl much harder absent bipartisan deal democrat advertis continu read main stori chairman senat foreign relat committe mr corker could block confirm new secretari state mr trump push embattl chief diplomat rex tillerson also presum would play key role decis whether tear iran nuclear deal senat republican frustrat trump start boil said alex conant former senat republican aid im sure feel mutual insid white hous relationship alway tenuou best corker comment new low point get lot done would easier everyon get along mr conant said cours fact theyr get along also make harder get anyth done'\n",
            " ...\n",
            " 'trump jr soon give minut speech reader think stori fact add two cent news donald trump jr paid give speech texa univers fee doubl made father presid sourc'\n",
            " 'shanghai reuter china said plan accept data oversea clinic trial speed approv drug potenti boon intern drugmak well patient often face lengthi delay new medicin reach market move outlin cabinet late sunday seek address high medicin cost access healthcar china popul nearli billion past five year china approv innov new drug onethird number develop market accept oversea clinic data help global drugmak time grow competit chines rival world secondbiggest pharmaceut market well pressur author anxiou rein price overal china support scientif innov drug medic devic lack qualiti product market still fall short top intern level draft propos said must speed examin approv urgent need drug medic devic cabinet also said would look improv protect medic intellectu properti boost number qualiti clinic trial test center china propos contain timelin implement want make drug industri largescal strong make competit shift longterm relianc import new drug wu zhen deputi head china food drug administr told brief monday drug use oversea year make market china wu ad china march propos way speed approv import drug includ reform clinic trial requir also want boost drug industri see shift gener drug toward innov medicin medic equip report adam jourdan edit richard borsuk edwina gibb'\n",
            " 'vice presid mike penc leav nfl game antiamerican protest reader think stori fact add two cent news donn marten vice presid mike penc attend today nation footbal leagu game indianapoli colt san francisco er chose leav sever player chose use presenc make antiamerican polit statement cdn colt honor longtim player futur hall fame quarterback peyton man ceremoni home team respect flag stand action oppos san francisco er seen suffici disrespect veep depart venu kickoff report indianapoli fox affili fox vp mike penc leav colt game er player knelt anthem vice presid mike penc decid leav indianapoli colt game sunday er player knelt nation anthem tweet former indiana governor said left today colt game potu dignifi event disrespect soldier flag nation anthem minut tweet offic releas full statement left today colt game presid trump dignifi event disrespect soldier flag nation anthem time mani american inspir nation courag resolv resili ever ralli around flag everyth unit us everyon entitl opinion dont think much ask nfl player respect flag nation anthem stand presid trump stand soldier alway stand flag nation anthem announc friday penc would attend game second ladi game special peyton man jersey retir halftim induct ring honor game tweet look forward honor great career peyton man penc action doubt seiz pollut nfl racial grievanc hatr presid trump proof stand white supremaci nazism dead right leav mani fan attend done well instead subject polit radic leftist racial grievanc monger driven leagu popular histor low vice presid express follow via twitter vice presid penc vp repli vp everyon entitl opinion dont think much ask nfl player respect flag nation anthem vice presid penc vp left today colt game potu dignifi event disrespect soldier flag nation anthem oct penc formerli governor indiana nfl need even neg public earli game even kick read vice presid mike penc leav nfl game antiamerican protest origin content conserv daili news conserv daili news american go news current event commentari trust cdn sourc']\n",
            "[1 1 1 ... 0 1 0]\n"
          ]
        }
      ],
      "source": [
        "print(textList)\n",
        "print(labelList)"
      ]
    },
    {
      "cell_type": "markdown",
      "metadata": {
        "id": "sY6OnOLwving"
      },
      "source": [
        "**TF-IDF features**"
      ]
    },
    {
      "cell_type": "code",
      "execution_count": null,
      "metadata": {
        "id": "Nbx4Tma3vsjK"
      },
      "outputs": [],
      "source": [
        "vectorizer = TfidfVectorizer()"
      ]
    },
    {
      "cell_type": "code",
      "execution_count": null,
      "metadata": {
        "id": "_kiWG2gDvuFT"
      },
      "outputs": [],
      "source": [
        "vectorizer.fit(textList)\n",
        "textList = vectorizer.transform(textList)"
      ]
    },
    {
      "cell_type": "code",
      "execution_count": null,
      "metadata": {
        "colab": {
          "base_uri": "https://localhost:8080/"
        },
        "id": "UgKTsvx4vv9o",
        "outputId": "f44de7c6-d365-4daf-9c59-9900c79b7422"
      },
      "outputs": [
        {
          "output_type": "stream",
          "name": "stdout",
          "text": [
            "  (0, 35076)\t0.015794910581703583\n",
            "  (0, 34981)\t0.010728916626326223\n",
            "  (0, 34775)\t0.041165829629272725\n",
            "  (0, 34701)\t0.02326569276475334\n",
            "  (0, 34660)\t0.026335059062409016\n",
            "  (0, 34508)\t0.03059080493718318\n",
            "  (0, 34334)\t0.09352781491189058\n",
            "  (0, 34279)\t0.021967027287821256\n",
            "  (0, 34230)\t0.022091952897424678\n",
            "  (0, 34212)\t0.017960723651277606\n",
            "  (0, 34021)\t0.013793173265045417\n",
            "  (0, 33976)\t0.020767756040342596\n",
            "  (0, 33913)\t0.01918582766687446\n",
            "  (0, 33755)\t0.021893363394133412\n",
            "  (0, 33520)\t0.039891931534144005\n",
            "  (0, 33459)\t0.024665065637159554\n",
            "  (0, 33408)\t0.03513695950437514\n",
            "  (0, 33340)\t0.029663005081483784\n",
            "  (0, 33159)\t0.0242604147031827\n",
            "  (0, 33131)\t0.02192997020080561\n",
            "  (0, 33049)\t0.019879151132988018\n",
            "  (0, 32981)\t0.036536332376781354\n",
            "  (0, 32935)\t0.036862642476636134\n",
            "  (0, 32926)\t0.03839412738624658\n",
            "  (0, 32898)\t0.03757718290789832\n",
            "  :\t:\n",
            "  (3983, 7550)\t0.024966720286875948\n",
            "  (3983, 7453)\t0.02991540625249588\n",
            "  (3983, 7229)\t0.0465335810108967\n",
            "  (3983, 7100)\t0.02220502264840252\n",
            "  (3983, 6682)\t0.0407036339561238\n",
            "  (3983, 6374)\t0.022858012556198206\n",
            "  (3983, 6312)\t0.05108617302624449\n",
            "  (3983, 6079)\t0.03590449660899666\n",
            "  (3983, 6028)\t0.24554620081519335\n",
            "  (3983, 5475)\t0.07200493457377537\n",
            "  (3983, 5074)\t0.038445069387465704\n",
            "  (3983, 5035)\t0.022986314101845987\n",
            "  (3983, 4973)\t0.058458206048930136\n",
            "  (3983, 4694)\t0.026995759965815914\n",
            "  (3983, 1946)\t0.08538819839940663\n",
            "  (3983, 1809)\t0.04166867226405168\n",
            "  (3983, 1694)\t0.0189821427680781\n",
            "  (3983, 1321)\t0.1557702554641664\n",
            "  (3983, 1304)\t0.24464449548776443\n",
            "  (3983, 1274)\t0.024512655439273084\n",
            "  (3983, 1058)\t0.03999377503209603\n",
            "  (3983, 994)\t0.02257742899164391\n",
            "  (3983, 405)\t0.03817331133418382\n",
            "  (3983, 262)\t0.01962219835000512\n",
            "  (3983, 236)\t0.04708227470784214\n"
          ]
        }
      ],
      "source": [
        "print(textList)"
      ]
    },
    {
      "cell_type": "markdown",
      "metadata": {
        "id": "1McyX14pwE0Z"
      },
      "source": [
        "**Model Training**"
      ]
    },
    {
      "cell_type": "code",
      "execution_count": null,
      "metadata": {
        "id": "l1yv__alwAiX"
      },
      "outputs": [],
      "source": [
        "from sklearn.linear_model import LogisticRegression\n",
        "from sklearn.model_selection import train_test_split\n",
        "from sklearn.metrics import accuracy_score\n",
        "from sklearn import metrics\n",
        "from sklearn.metrics import r2_score\n",
        "from sklearn.metrics import precision_recall_fscore_support\n",
        "from sklearn.model_selection import cross_val_score\n",
        "from sklearn.metrics import confusion_matrix , classification_report"
      ]
    },
    {
      "cell_type": "code",
      "execution_count": null,
      "metadata": {
        "id": "fq8ibBFLwTHg"
      },
      "outputs": [],
      "source": [
        "X_train, X_test, y_train, y_test = train_test_split(textList ,labelList, test_size=0.2, random_state=100)"
      ]
    },
    {
      "cell_type": "code",
      "execution_count": null,
      "metadata": {
        "id": "z24taE4eP8Uu"
      },
      "outputs": [],
      "source": [
        "def plot_confusion_matrix(cm, classes, normalize=False, title='Confusion matrix', cmap=plt.cm.Greens):\n",
        "    plt.imshow(cm, interpolation='nearest', cmap=cmap)\n",
        "    plt.title(title)\n",
        "    plt.colorbar()\n",
        "    plt.xticks(range(len(classes)), classes)\n",
        "    plt.yticks(range(len(classes)), classes)\n",
        "\n",
        "    if normalize:\n",
        "        cm = cm.astype('float') / cm.sum(axis=1, keepdims=True)\n",
        "        print(\"Normalized confusion matrix\")\n",
        "\n",
        "    for i, j in [(i, j) for i in range(len(classes)) for j in range(len(classes))]:\n",
        "        plt.text(j, i, f\"{cm[i, j]:.2f}\", ha=\"center\", va=\"center\", color=\"white\" if cm[i, j] > 0.5 else \"black\")\n",
        "\n",
        "    plt.tight_layout()\n",
        "    plt.ylabel('True label')\n",
        "    plt.xlabel('Predicted label')\n"
      ]
    },
    {
      "cell_type": "markdown",
      "metadata": {
        "id": "nRPc99SkwZcg"
      },
      "source": [
        "**Model Training 01: Logistic Regression**"
      ]
    },
    {
      "cell_type": "code",
      "execution_count": null,
      "metadata": {
        "colab": {
          "base_uri": "https://localhost:8080/",
          "height": 74
        },
        "id": "PNy2BuA2waMF",
        "outputId": "147703f5-aac0-4bc4-efb3-7a3d9e4eebaf"
      },
      "outputs": [
        {
          "output_type": "execute_result",
          "data": {
            "text/plain": [
              "LogisticRegression()"
            ],
            "text/html": [
              "<style>#sk-container-id-1 {color: black;background-color: white;}#sk-container-id-1 pre{padding: 0;}#sk-container-id-1 div.sk-toggleable {background-color: white;}#sk-container-id-1 label.sk-toggleable__label {cursor: pointer;display: block;width: 100%;margin-bottom: 0;padding: 0.3em;box-sizing: border-box;text-align: center;}#sk-container-id-1 label.sk-toggleable__label-arrow:before {content: \"▸\";float: left;margin-right: 0.25em;color: #696969;}#sk-container-id-1 label.sk-toggleable__label-arrow:hover:before {color: black;}#sk-container-id-1 div.sk-estimator:hover label.sk-toggleable__label-arrow:before {color: black;}#sk-container-id-1 div.sk-toggleable__content {max-height: 0;max-width: 0;overflow: hidden;text-align: left;background-color: #f0f8ff;}#sk-container-id-1 div.sk-toggleable__content pre {margin: 0.2em;color: black;border-radius: 0.25em;background-color: #f0f8ff;}#sk-container-id-1 input.sk-toggleable__control:checked~div.sk-toggleable__content {max-height: 200px;max-width: 100%;overflow: auto;}#sk-container-id-1 input.sk-toggleable__control:checked~label.sk-toggleable__label-arrow:before {content: \"▾\";}#sk-container-id-1 div.sk-estimator input.sk-toggleable__control:checked~label.sk-toggleable__label {background-color: #d4ebff;}#sk-container-id-1 div.sk-label input.sk-toggleable__control:checked~label.sk-toggleable__label {background-color: #d4ebff;}#sk-container-id-1 input.sk-hidden--visually {border: 0;clip: rect(1px 1px 1px 1px);clip: rect(1px, 1px, 1px, 1px);height: 1px;margin: -1px;overflow: hidden;padding: 0;position: absolute;width: 1px;}#sk-container-id-1 div.sk-estimator {font-family: monospace;background-color: #f0f8ff;border: 1px dotted black;border-radius: 0.25em;box-sizing: border-box;margin-bottom: 0.5em;}#sk-container-id-1 div.sk-estimator:hover {background-color: #d4ebff;}#sk-container-id-1 div.sk-parallel-item::after {content: \"\";width: 100%;border-bottom: 1px solid gray;flex-grow: 1;}#sk-container-id-1 div.sk-label:hover label.sk-toggleable__label {background-color: #d4ebff;}#sk-container-id-1 div.sk-serial::before {content: \"\";position: absolute;border-left: 1px solid gray;box-sizing: border-box;top: 0;bottom: 0;left: 50%;z-index: 0;}#sk-container-id-1 div.sk-serial {display: flex;flex-direction: column;align-items: center;background-color: white;padding-right: 0.2em;padding-left: 0.2em;position: relative;}#sk-container-id-1 div.sk-item {position: relative;z-index: 1;}#sk-container-id-1 div.sk-parallel {display: flex;align-items: stretch;justify-content: center;background-color: white;position: relative;}#sk-container-id-1 div.sk-item::before, #sk-container-id-1 div.sk-parallel-item::before {content: \"\";position: absolute;border-left: 1px solid gray;box-sizing: border-box;top: 0;bottom: 0;left: 50%;z-index: -1;}#sk-container-id-1 div.sk-parallel-item {display: flex;flex-direction: column;z-index: 1;position: relative;background-color: white;}#sk-container-id-1 div.sk-parallel-item:first-child::after {align-self: flex-end;width: 50%;}#sk-container-id-1 div.sk-parallel-item:last-child::after {align-self: flex-start;width: 50%;}#sk-container-id-1 div.sk-parallel-item:only-child::after {width: 0;}#sk-container-id-1 div.sk-dashed-wrapped {border: 1px dashed gray;margin: 0 0.4em 0.5em 0.4em;box-sizing: border-box;padding-bottom: 0.4em;background-color: white;}#sk-container-id-1 div.sk-label label {font-family: monospace;font-weight: bold;display: inline-block;line-height: 1.2em;}#sk-container-id-1 div.sk-label-container {text-align: center;}#sk-container-id-1 div.sk-container {/* jupyter's `normalize.less` sets `[hidden] { display: none; }` but bootstrap.min.css set `[hidden] { display: none !important; }` so we also need the `!important` here to be able to override the default hidden behavior on the sphinx rendered scikit-learn.org. See: https://github.com/scikit-learn/scikit-learn/issues/21755 */display: inline-block !important;position: relative;}#sk-container-id-1 div.sk-text-repr-fallback {display: none;}</style><div id=\"sk-container-id-1\" class=\"sk-top-container\"><div class=\"sk-text-repr-fallback\"><pre>LogisticRegression()</pre><b>In a Jupyter environment, please rerun this cell to show the HTML representation or trust the notebook. <br />On GitHub, the HTML representation is unable to render, please try loading this page with nbviewer.org.</b></div><div class=\"sk-container\" hidden><div class=\"sk-item\"><div class=\"sk-estimator sk-toggleable\"><input class=\"sk-toggleable__control sk-hidden--visually\" id=\"sk-estimator-id-1\" type=\"checkbox\" checked><label for=\"sk-estimator-id-1\" class=\"sk-toggleable__label sk-toggleable__label-arrow\">LogisticRegression</label><div class=\"sk-toggleable__content\"><pre>LogisticRegression()</pre></div></div></div></div></div>"
            ]
          },
          "metadata": {},
          "execution_count": 52
        }
      ],
      "source": [
        "LR = LogisticRegression()\n",
        "LR.fit(X_train, y_train)"
      ]
    },
    {
      "cell_type": "code",
      "execution_count": null,
      "metadata": {
        "colab": {
          "base_uri": "https://localhost:8080/"
        },
        "id": "gtH9mF_gweFB",
        "outputId": "8239a653-742d-4042-cadf-442e4126782c"
      },
      "outputs": [
        {
          "output_type": "stream",
          "name": "stdout",
          "text": [
            "Accuracy score of the training data :  0.9905867587072482\n"
          ]
        }
      ],
      "source": [
        "X_train_prediction_lr = LR.predict(X_train)\n",
        "training_data_accuracy_lr = accuracy_score(X_train_prediction_lr, y_train)\n",
        "print('Accuracy score of the training data : ', training_data_accuracy_lr)"
      ]
    },
    {
      "cell_type": "code",
      "execution_count": null,
      "metadata": {
        "colab": {
          "base_uri": "https://localhost:8080/"
        },
        "id": "EA5EepOAwi7g",
        "outputId": "bc599290-fe63-465b-b6b7-6dc5509ddcbd"
      },
      "outputs": [
        {
          "output_type": "stream",
          "name": "stdout",
          "text": [
            "Accuracy score of the test data :  0.9774153074027604\n"
          ]
        }
      ],
      "source": [
        "X_test_prediction_lr = LR.predict(X_test)\n",
        "test_data_accuracy_lr = accuracy_score(X_test_prediction_lr, y_test)\n",
        "print('Accuracy score of the test data : ', test_data_accuracy_lr)"
      ]
    },
    {
      "cell_type": "code",
      "execution_count": null,
      "metadata": {
        "colab": {
          "base_uri": "https://localhost:8080/"
        },
        "id": "0c1tZl1Mw418",
        "outputId": "390e3fe3-4557-49eb-fac5-f88089e7247d"
      },
      "outputs": [
        {
          "output_type": "stream",
          "name": "stdout",
          "text": [
            "Accuracy in Logistic Regression Model:  0.9774153074027604\n",
            "Precision: 0.9774153074027604\n",
            "Recall: 0.9774153074027604\n",
            "F1 Score: 0.9774153074027604\n"
          ]
        }
      ],
      "source": [
        "print(\"Accuracy in Logistic Regression Model: \", metrics.accuracy_score(y_test, X_test_prediction_lr))\n",
        "print(\"Precision:\",metrics.precision_score(y_test, X_test_prediction_lr, average='micro'))\n",
        "print(\"Recall:\",metrics.recall_score(y_test, X_test_prediction_lr, average='micro'))\n",
        "print(\"F1 Score:\",metrics.f1_score(y_test, X_test_prediction_lr, average='micro'))"
      ]
    },
    {
      "cell_type": "code",
      "execution_count": null,
      "metadata": {
        "colab": {
          "base_uri": "https://localhost:8080/",
          "height": 579
        },
        "id": "GJIO2wWgxUSZ",
        "outputId": "2fdc05a2-e940-497f-de66-2e9eb7f0e064"
      },
      "outputs": [
        {
          "output_type": "stream",
          "name": "stdout",
          "text": [
            "Accuracy in Logistic Regression Model: 0.9774153074027604\n",
            "Precision: 0.9774153074027604\n",
            "Recall: 0.9774153074027604\n",
            "F1 Score: 0.9774153074027604\n"
          ]
        },
        {
          "output_type": "display_data",
          "data": {
            "text/plain": [
              "<Figure size 640x480 with 2 Axes>"
            ],
            "image/png": "[encoded data removed]"
          },
          "metadata": {}
        }
      ],
      "source": [
        "from sklearn.linear_model import LogisticRegression\n",
        "from sklearn.metrics import accuracy_score, precision_score, recall_score, f1_score, confusion_matrix\n",
        "import matplotlib.pyplot as plt\n",
        "\n",
        "\n",
        "\n",
        "classifier_lr = LogisticRegression()\n",
        "classifier_lr.fit(X_train, y_train)\n",
        "pred_lr = classifier_lr.predict(X_test)\n",
        "\n",
        "\n",
        "accuracy_lr = accuracy_score(y_test, pred_lr)\n",
        "precision_lr = precision_score(y_test, pred_lr, average='micro')\n",
        "recall_lr = recall_score(y_test, pred_lr, average='micro')\n",
        "f1_lr = f1_score(y_test, pred_lr, average='micro')\n",
        "cm_lr = confusion_matrix(y_test, pred_lr)\n",
        "\n",
        "\n",
        "print(\"Accuracy in Logistic Regression Model:\", accuracy_lr)\n",
        "print(\"Precision:\", precision_lr)\n",
        "print(\"Recall:\", recall_lr)\n",
        "print(\"F1 Score:\", f1_lr)\n",
        "\n",
        "\n",
        "plt.figure()\n",
        "plot_confusion_matrix(cm_lr, classes=['FAKE', 'REAL'], cmap=plt.cm.Blues)\n",
        "\n",
        "plt.show()\n"
      ]
    },
    {
      "cell_type": "markdown",
      "metadata": {
        "id": "jH5ib5RXxd6D"
      },
      "source": [
        "**Model Training 02: Naive Bayes**"
      ]
    },
    {
      "cell_type": "code",
      "execution_count": null,
      "metadata": {
        "colab": {
          "base_uri": "https://localhost:8080/",
          "height": 74
        },
        "id": "_-hYFlqsxgdi",
        "outputId": "a3d0c9e6-a8ca-4404-c4e2-3f882950dff2"
      },
      "outputs": [
        {
          "output_type": "execute_result",
          "data": {
            "text/plain": [
              "MultinomialNB()"
            ],
            "text/html": [
              "<style>#sk-container-id-2 {color: black;background-color: white;}#sk-container-id-2 pre{padding: 0;}#sk-container-id-2 div.sk-toggleable {background-color: white;}#sk-container-id-2 label.sk-toggleable__label {cursor: pointer;display: block;width: 100%;margin-bottom: 0;padding: 0.3em;box-sizing: border-box;text-align: center;}#sk-container-id-2 label.sk-toggleable__label-arrow:before {content: \"▸\";float: left;margin-right: 0.25em;color: #696969;}#sk-container-id-2 label.sk-toggleable__label-arrow:hover:before {color: black;}#sk-container-id-2 div.sk-estimator:hover label.sk-toggleable__label-arrow:before {color: black;}#sk-container-id-2 div.sk-toggleable__content {max-height: 0;max-width: 0;overflow: hidden;text-align: left;background-color: #f0f8ff;}#sk-container-id-2 div.sk-toggleable__content pre {margin: 0.2em;color: black;border-radius: 0.25em;background-color: #f0f8ff;}#sk-container-id-2 input.sk-toggleable__control:checked~div.sk-toggleable__content {max-height: 200px;max-width: 100%;overflow: auto;}#sk-container-id-2 input.sk-toggleable__control:checked~label.sk-toggleable__label-arrow:before {content: \"▾\";}#sk-container-id-2 div.sk-estimator input.sk-toggleable__control:checked~label.sk-toggleable__label {background-color: #d4ebff;}#sk-container-id-2 div.sk-label input.sk-toggleable__control:checked~label.sk-toggleable__label {background-color: #d4ebff;}#sk-container-id-2 input.sk-hidden--visually {border: 0;clip: rect(1px 1px 1px 1px);clip: rect(1px, 1px, 1px, 1px);height: 1px;margin: -1px;overflow: hidden;padding: 0;position: absolute;width: 1px;}#sk-container-id-2 div.sk-estimator {font-family: monospace;background-color: #f0f8ff;border: 1px dotted black;border-radius: 0.25em;box-sizing: border-box;margin-bottom: 0.5em;}#sk-container-id-2 div.sk-estimator:hover {background-color: #d4ebff;}#sk-container-id-2 div.sk-parallel-item::after {content: \"\";width: 100%;border-bottom: 1px solid gray;flex-grow: 1;}#sk-container-id-2 div.sk-label:hover label.sk-toggleable__label {background-color: #d4ebff;}#sk-container-id-2 div.sk-serial::before {content: \"\";position: absolute;border-left: 1px solid gray;box-sizing: border-box;top: 0;bottom: 0;left: 50%;z-index: 0;}#sk-container-id-2 div.sk-serial {display: flex;flex-direction: column;align-items: center;background-color: white;padding-right: 0.2em;padding-left: 0.2em;position: relative;}#sk-container-id-2 div.sk-item {position: relative;z-index: 1;}#sk-container-id-2 div.sk-parallel {display: flex;align-items: stretch;justify-content: center;background-color: white;position: relative;}#sk-container-id-2 div.sk-item::before, #sk-container-id-2 div.sk-parallel-item::before {content: \"\";position: absolute;border-left: 1px solid gray;box-sizing: border-box;top: 0;bottom: 0;left: 50%;z-index: -1;}#sk-container-id-2 div.sk-parallel-item {display: flex;flex-direction: column;z-index: 1;position: relative;background-color: white;}#sk-container-id-2 div.sk-parallel-item:first-child::after {align-self: flex-end;width: 50%;}#sk-container-id-2 div.sk-parallel-item:last-child::after {align-self: flex-start;width: 50%;}#sk-container-id-2 div.sk-parallel-item:only-child::after {width: 0;}#sk-container-id-2 div.sk-dashed-wrapped {border: 1px dashed gray;margin: 0 0.4em 0.5em 0.4em;box-sizing: border-box;padding-bottom: 0.4em;background-color: white;}#sk-container-id-2 div.sk-label label {font-family: monospace;font-weight: bold;display: inline-block;line-height: 1.2em;}#sk-container-id-2 div.sk-label-container {text-align: center;}#sk-container-id-2 div.sk-container {/* jupyter's `normalize.less` sets `[hidden] { display: none; }` but bootstrap.min.css set `[hidden] { display: none !important; }` so we also need the `!important` here to be able to override the default hidden behavior on the sphinx rendered scikit-learn.org. See: https://github.com/scikit-learn/scikit-learn/issues/21755 */display: inline-block !important;position: relative;}#sk-container-id-2 div.sk-text-repr-fallback {display: none;}</style><div id=\"sk-container-id-2\" class=\"sk-top-container\"><div class=\"sk-text-repr-fallback\"><pre>MultinomialNB()</pre><b>In a Jupyter environment, please rerun this cell to show the HTML representation or trust the notebook. <br />On GitHub, the HTML representation is unable to render, please try loading this page with nbviewer.org.</b></div><div class=\"sk-container\" hidden><div class=\"sk-item\"><div class=\"sk-estimator sk-toggleable\"><input class=\"sk-toggleable__control sk-hidden--visually\" id=\"sk-estimator-id-2\" type=\"checkbox\" checked><label for=\"sk-estimator-id-2\" class=\"sk-toggleable__label sk-toggleable__label-arrow\">MultinomialNB</label><div class=\"sk-toggleable__content\"><pre>MultinomialNB()</pre></div></div></div></div></div>"
            ]
          },
          "metadata": {},
          "execution_count": 57
        }
      ],
      "source": [
        "from sklearn.naive_bayes import MultinomialNB\n",
        "nb_classifier = MultinomialNB()\n",
        "nb_classifier.fit(X_train, y_train)"
      ]
    },
    {
      "cell_type": "code",
      "execution_count": null,
      "metadata": {
        "colab": {
          "base_uri": "https://localhost:8080/"
        },
        "id": "fG-9BohhxiEb",
        "outputId": "d62549d6-c62b-4594-aaed-890037bf0c5c"
      },
      "outputs": [
        {
          "output_type": "stream",
          "name": "stdout",
          "text": [
            "Accuracy score of the training data :  0.952933793536241\n"
          ]
        }
      ],
      "source": [
        "X_train_prediction_nb = nb_classifier.predict(X_train)\n",
        "training_data_accuracy_nb = accuracy_score(X_train_prediction_nb, y_train)\n",
        "print('Accuracy score of the training data : ', training_data_accuracy_nb)"
      ]
    },
    {
      "cell_type": "code",
      "execution_count": null,
      "metadata": {
        "colab": {
          "base_uri": "https://localhost:8080/"
        },
        "id": "7574h4UAxj2c",
        "outputId": "bb412779-68b5-4d59-90a0-af8e70e42400"
      },
      "outputs": [
        {
          "output_type": "stream",
          "name": "stdout",
          "text": [
            "Accuracy score of the test data :  0.9272271016311167\n"
          ]
        }
      ],
      "source": [
        "X_test_prediction_nb = nb_classifier.predict(X_test)\n",
        "test_data_accuracy_nb = accuracy_score(X_test_prediction_nb, y_test)\n",
        "print('Accuracy score of the test data : ', test_data_accuracy_nb)"
      ]
    },
    {
      "cell_type": "code",
      "execution_count": null,
      "metadata": {
        "colab": {
          "base_uri": "https://localhost:8080/"
        },
        "id": "GP-dsrhdxoqO",
        "outputId": "b30bce70-5691-434c-9022-00ff96b05845"
      },
      "outputs": [
        {
          "output_type": "stream",
          "name": "stdout",
          "text": [
            "Accuracy in Naive Bayes Model:  0.9272271016311167\n",
            "Precision: 0.9272271016311167\n",
            "Recall: 0.9272271016311167\n",
            "F1 Score: 0.9272271016311167\n",
            "[[402  43]\n",
            " [ 15 337]]\n"
          ]
        }
      ],
      "source": [
        "print(\"Accuracy in Naive Bayes Model: \", metrics.accuracy_score(y_test, X_test_prediction_nb))\n",
        "print(\"Precision:\",metrics.precision_score(y_test, X_test_prediction_nb, average='micro'))\n",
        "print(\"Recall:\",metrics.recall_score(y_test, X_test_prediction_nb, average='micro'))\n",
        "print(\"F1 Score:\",metrics.f1_score(y_test, X_test_prediction_nb, average='micro'))\n",
        "print(confusion_matrix(y_test, X_test_prediction_nb))"
      ]
    },
    {
      "cell_type": "code",
      "execution_count": null,
      "metadata": {
        "colab": {
          "base_uri": "https://localhost:8080/",
          "height": 579
        },
        "id": "XfiL1DLtxrcx",
        "outputId": "22053744-31b2-4778-cf2a-b77b4fb71ac4"
      },
      "outputs": [
        {
          "output_type": "stream",
          "name": "stdout",
          "text": [
            "Accuracy: 0.9272271016311167\n",
            "Precision: 0.9774153074027604\n",
            "Recall: 0.9774153074027604\n",
            "F1 Score: 0.9774153074027604\n"
          ]
        },
        {
          "output_type": "display_data",
          "data": {
            "text/plain": [
              "<Figure size 640x480 with 2 Axes>"
            ],
            "image/png": "[encoded data removed]"
          },
          "metadata": {}
        }
      ],
      "source": [
        "from sklearn.naive_bayes import MultinomialNB\n",
        "from sklearn.metrics import accuracy_score, confusion_matrix\n",
        "import matplotlib.pyplot as plt\n",
        "classifier = MultinomialNB()\n",
        "classifier.fit(X_train, y_train)\n",
        "\n",
        "\n",
        "pred = classifier.predict(X_test)\n",
        "accuracy = accuracy_score(y_test, pred)\n",
        "conf_matrix = confusion_matrix(y_test, pred)\n",
        "\n",
        "\n",
        "print(\"Accuracy:\", accuracy)\n",
        "print(\"Precision:\",precision_lr)\n",
        "print(\"Recall:\",recall_lr)\n",
        "print(\"F1 Score:\", f1_lr)\n",
        "plt.figure()\n",
        "plot_confusion_matrix(conf_matrix, classes=['FAKE', 'REAL'], cmap=plt.cm.Greens)\n",
        "\n",
        "plt.show()\n"
      ]
    },
    {
      "cell_type": "markdown",
      "metadata": {
        "id": "ua3oCWrBzVR4"
      },
      "source": [
        "**Model Training 03: Decision Tree Regression**"
      ]
    },
    {
      "cell_type": "code",
      "execution_count": null,
      "metadata": {
        "id": "nKg4ys5NzSLk"
      },
      "outputs": [],
      "source": [
        "from sklearn.tree import DecisionTreeRegressor\n",
        "DTR = DecisionTreeRegressor(random_state=100)\n",
        "DTR = DTR.fit(X_train,y_train)"
      ]
    },
    {
      "cell_type": "code",
      "execution_count": null,
      "metadata": {
        "colab": {
          "base_uri": "https://localhost:8080/"
        },
        "id": "obwxupdPzWwl",
        "outputId": "fbdae5aa-1270-49d8-8441-48d8d84ec074"
      },
      "outputs": [
        {
          "output_type": "stream",
          "name": "stdout",
          "text": [
            "Accuracy score of the training data :  1.0\n"
          ]
        }
      ],
      "source": [
        "X_train_prediction_DTR = DTR.predict(X_train).round()\n",
        "training_data_accuracy_DTR = accuracy_score(X_train_prediction_DTR, y_train)\n",
        "print('Accuracy score of the training data : ', training_data_accuracy_DTR)"
      ]
    },
    {
      "cell_type": "code",
      "execution_count": null,
      "metadata": {
        "colab": {
          "base_uri": "https://localhost:8080/"
        },
        "id": "f0fjaUXYzcN2",
        "outputId": "85c728c2-80ab-45bf-9cf9-706d34996ff7"
      },
      "outputs": [
        {
          "output_type": "stream",
          "name": "stdout",
          "text": [
            "Accuracy score of the test data :  0.9360100376411543\n"
          ]
        }
      ],
      "source": [
        "X_test_prediction_DTR = DTR.predict(X_test).round()\n",
        "test_data_accuracy_DTR = accuracy_score(X_test_prediction_DTR, y_test)\n",
        "print('Accuracy score of the test data : ', test_data_accuracy_DTR)  #."
      ]
    },
    {
      "cell_type": "code",
      "execution_count": null,
      "metadata": {
        "colab": {
          "base_uri": "https://localhost:8080/",
          "height": 597
        },
        "id": "ABPCvMcdzeIm",
        "outputId": "85ec660a-d710-4ccc-aa7b-957bba02dcec"
      },
      "outputs": [
        {
          "output_type": "stream",
          "name": "stdout",
          "text": [
            "Accuracy in Decision Tree Regression:  0.9360100376411543\n",
            "Precision: 0.9360100376411543\n",
            "Recall: 0.9360100376411543\n",
            "F1 Score: 0.9360100376411543\n"
          ]
        },
        {
          "output_type": "execute_result",
          "data": {
            "text/plain": [
              "Text(0.5, 1.0, 'Confusion Matrix')"
            ]
          },
          "metadata": {},
          "execution_count": 68
        },
        {
          "output_type": "display_data",
          "data": {
            "text/plain": [
              "<Figure size 640x480 with 2 Axes>"
            ],
            "image/png": "[encoded data removed]"
          },
          "metadata": {}
        }
      ],
      "source": [
        "print(\"Accuracy in Decision Tree Regression: \", metrics.accuracy_score(y_test, X_test_prediction_DTR))\n",
        "print(\"Precision:\",metrics.precision_score(y_test, X_test_prediction_DTR, average='micro'))\n",
        "print(\"Recall:\",metrics.recall_score(y_test, X_test_prediction_DTR, average='micro'))\n",
        "print(\"F1 Score:\",metrics.f1_score(y_test, X_test_prediction_DTR, average='micro'))\n",
        "cf_matrix = confusion_matrix(y_test,X_test_prediction_DTR)\n",
        "#sns.heatmap(cf_matrix, annot = True, fmt=\".2g\", cmap=\"rocket\")\n",
        "plot_confusion_matrix(cf_matrix, classes=['FAKE', 'REAL'], cmap='rocket')\n",
        "plt.title('Confusion Matrix')"
      ]
    },
    {
      "cell_type": "markdown",
      "metadata": {
        "id": "wA7THnlclN6Y"
      },
      "source": [
        "**Model Training 04: Decision Tree Classifier**\n"
      ]
    },
    {
      "cell_type": "code",
      "execution_count": null,
      "metadata": {
        "id": "yNkhufMvlUgo",
        "colab": {
          "base_uri": "https://localhost:8080/",
          "height": 74
        },
        "outputId": "848b605b-1303-4ec8-eaf3-2a3626a7aa89"
      },
      "outputs": [
        {
          "output_type": "execute_result",
          "data": {
            "text/plain": [
              "DecisionTreeClassifier()"
            ],
            "text/html": [
              "<style>#sk-container-id-3 {color: black;background-color: white;}#sk-container-id-3 pre{padding: 0;}#sk-container-id-3 div.sk-toggleable {background-color: white;}#sk-container-id-3 label.sk-toggleable__label {cursor: pointer;display: block;width: 100%;margin-bottom: 0;padding: 0.3em;box-sizing: border-box;text-align: center;}#sk-container-id-3 label.sk-toggleable__label-arrow:before {content: \"▸\";float: left;margin-right: 0.25em;color: #696969;}#sk-container-id-3 label.sk-toggleable__label-arrow:hover:before {color: black;}#sk-container-id-3 div.sk-estimator:hover label.sk-toggleable__label-arrow:before {color: black;}#sk-container-id-3 div.sk-toggleable__content {max-height: 0;max-width: 0;overflow: hidden;text-align: left;background-color: #f0f8ff;}#sk-container-id-3 div.sk-toggleable__content pre {margin: 0.2em;color: black;border-radius: 0.25em;background-color: #f0f8ff;}#sk-container-id-3 input.sk-toggleable__control:checked~div.sk-toggleable__content {max-height: 200px;max-width: 100%;overflow: auto;}#sk-container-id-3 input.sk-toggleable__control:checked~label.sk-toggleable__label-arrow:before {content: \"▾\";}#sk-container-id-3 div.sk-estimator input.sk-toggleable__control:checked~label.sk-toggleable__label {background-color: #d4ebff;}#sk-container-id-3 div.sk-label input.sk-toggleable__control:checked~label.sk-toggleable__label {background-color: #d4ebff;}#sk-container-id-3 input.sk-hidden--visually {border: 0;clip: rect(1px 1px 1px 1px);clip: rect(1px, 1px, 1px, 1px);height: 1px;margin: -1px;overflow: hidden;padding: 0;position: absolute;width: 1px;}#sk-container-id-3 div.sk-estimator {font-family: monospace;background-color: #f0f8ff;border: 1px dotted black;border-radius: 0.25em;box-sizing: border-box;margin-bottom: 0.5em;}#sk-container-id-3 div.sk-estimator:hover {background-color: #d4ebff;}#sk-container-id-3 div.sk-parallel-item::after {content: \"\";width: 100%;border-bottom: 1px solid gray;flex-grow: 1;}#sk-container-id-3 div.sk-label:hover label.sk-toggleable__label {background-color: #d4ebff;}#sk-container-id-3 div.sk-serial::before {content: \"\";position: absolute;border-left: 1px solid gray;box-sizing: border-box;top: 0;bottom: 0;left: 50%;z-index: 0;}#sk-container-id-3 div.sk-serial {display: flex;flex-direction: column;align-items: center;background-color: white;padding-right: 0.2em;padding-left: 0.2em;position: relative;}#sk-container-id-3 div.sk-item {position: relative;z-index: 1;}#sk-container-id-3 div.sk-parallel {display: flex;align-items: stretch;justify-content: center;background-color: white;position: relative;}#sk-container-id-3 div.sk-item::before, #sk-container-id-3 div.sk-parallel-item::before {content: \"\";position: absolute;border-left: 1px solid gray;box-sizing: border-box;top: 0;bottom: 0;left: 50%;z-index: -1;}#sk-container-id-3 div.sk-parallel-item {display: flex;flex-direction: column;z-index: 1;position: relative;background-color: white;}#sk-container-id-3 div.sk-parallel-item:first-child::after {align-self: flex-end;width: 50%;}#sk-container-id-3 div.sk-parallel-item:last-child::after {align-self: flex-start;width: 50%;}#sk-container-id-3 div.sk-parallel-item:only-child::after {width: 0;}#sk-container-id-3 div.sk-dashed-wrapped {border: 1px dashed gray;margin: 0 0.4em 0.5em 0.4em;box-sizing: border-box;padding-bottom: 0.4em;background-color: white;}#sk-container-id-3 div.sk-label label {font-family: monospace;font-weight: bold;display: inline-block;line-height: 1.2em;}#sk-container-id-3 div.sk-label-container {text-align: center;}#sk-container-id-3 div.sk-container {/* jupyter's `normalize.less` sets `[hidden] { display: none; }` but bootstrap.min.css set `[hidden] { display: none !important; }` so we also need the `!important` here to be able to override the default hidden behavior on the sphinx rendered scikit-learn.org. See: https://github.com/scikit-learn/scikit-learn/issues/21755 */display: inline-block !important;position: relative;}#sk-container-id-3 div.sk-text-repr-fallback {display: none;}</style><div id=\"sk-container-id-3\" class=\"sk-top-container\"><div class=\"sk-text-repr-fallback\"><pre>DecisionTreeClassifier()</pre><b>In a Jupyter environment, please rerun this cell to show the HTML representation or trust the notebook. <br />On GitHub, the HTML representation is unable to render, please try loading this page with nbviewer.org.</b></div><div class=\"sk-container\" hidden><div class=\"sk-item\"><div class=\"sk-estimator sk-toggleable\"><input class=\"sk-toggleable__control sk-hidden--visually\" id=\"sk-estimator-id-3\" type=\"checkbox\" checked><label for=\"sk-estimator-id-3\" class=\"sk-toggleable__label sk-toggleable__label-arrow\">DecisionTreeClassifier</label><div class=\"sk-toggleable__content\"><pre>DecisionTreeClassifier()</pre></div></div></div></div></div>"
            ]
          },
          "metadata": {},
          "execution_count": 67
        }
      ],
      "source": [
        "from sklearn.tree import DecisionTreeClassifier\n",
        "DTC = DecisionTreeClassifier()\n",
        "DTC.fit(X_train, y_train)"
      ]
    },
    {
      "cell_type": "code",
      "execution_count": null,
      "metadata": {
        "id": "lK_77L-AlUde",
        "colab": {
          "base_uri": "https://localhost:8080/"
        },
        "outputId": "67ea86a5-0dbf-47e2-f849-d18e236428de"
      },
      "outputs": [
        {
          "output_type": "stream",
          "name": "stdout",
          "text": [
            "Accuracy score of the training data :  1.0\n"
          ]
        }
      ],
      "source": [
        "X_train_prediction_DTC = DTC.predict(X_train)\n",
        "training_data_accuracy_DTC = accuracy_score(X_train_prediction_DTC, y_train)\n",
        "print('Accuracy score of the training data : ', training_data_accuracy_DTC)"
      ]
    },
    {
      "cell_type": "code",
      "execution_count": null,
      "metadata": {
        "id": "Jy6yeBiklUaN",
        "colab": {
          "base_uri": "https://localhost:8080/"
        },
        "outputId": "cbf83ce8-dcbd-47e8-aa0c-895dedb600d4"
      },
      "outputs": [
        {
          "output_type": "stream",
          "name": "stdout",
          "text": [
            "Accuracy score of the test data :  0.9322459222082811\n"
          ]
        }
      ],
      "source": [
        "X_test_prediction_DTC = DTC.predict(X_test)\n",
        "test_data_accuracy_DTC = accuracy_score(X_test_prediction_DTC, y_test)\n",
        "print('Accuracy score of the test data : ', test_data_accuracy_DTC)"
      ]
    },
    {
      "cell_type": "code",
      "execution_count": null,
      "metadata": {
        "id": "W6so5U7klUXz",
        "colab": {
          "base_uri": "https://localhost:8080/",
          "height": 543
        },
        "outputId": "3ea6ff89-485c-4f1c-9654-28c49dd976d5"
      },
      "outputs": [
        {
          "output_type": "stream",
          "name": "stdout",
          "text": [
            "Accuracy in Decision Tree Classifier:  0.9322459222082811\n",
            "Precision: 0.9322459222082811\n",
            "Recall: 0.9322459222082811\n",
            "F1 Score: 0.9322459222082811\n"
          ]
        },
        {
          "output_type": "execute_result",
          "data": {
            "text/plain": [
              "Text(0.5, 1.0, 'Confusion Matrix')"
            ]
          },
          "metadata": {},
          "execution_count": 73
        },
        {
          "output_type": "display_data",
          "data": {
            "text/plain": [
              "<Figure size 640x480 with 2 Axes>"
            ],
            "image/png": "[encoded data removed]"
          },
          "metadata": {}
        }
      ],
      "source": [
        "print(\"Accuracy in Decision Tree Classifier: \", metrics.accuracy_score(y_test, X_test_prediction_DTC))\n",
        "print(\"Precision:\",metrics.precision_score(y_test, X_test_prediction_DTC, average='micro'))\n",
        "print(\"Recall:\",metrics.recall_score(y_test, X_test_prediction_DTC, average='micro'))\n",
        "print(\"F1 Score:\",metrics.f1_score(y_test, X_test_prediction_DTC, average='micro'))\n",
        "\n",
        "cf_matrix = confusion_matrix(y_test,X_test_prediction_DTC)\n",
        "sns.heatmap(cf_matrix, annot = True, fmt=\".2g\", cmap=\"flare\")\n",
        "plt.title('Confusion Matrix')"
      ]
    },
    {
      "cell_type": "markdown",
      "metadata": {
        "id": "Y2V7diUWzgsc"
      },
      "source": [
        "**Prediction**"
      ]
    },
    {
      "cell_type": "code",
      "execution_count": null,
      "metadata": {
        "id": "0izBgNhqzgA_"
      },
      "outputs": [],
      "source": [
        "import numpy as np\n",
        "import matplotlib.pyplot as plt\n",
        "\n",
        "lra = round(metrics.accuracy_score(y_test, X_test_prediction_lr)*100,2)\n",
        "nba = round(metrics.accuracy_score(y_test, X_test_prediction_nb)*100,2)\n",
        "dtra = round(metrics.accuracy_score(y_test, X_test_prediction_DTR)*100,2)\n",
        "dtc = round(metrics.accuracy_score(y_test, X_test_prediction_DTC)*100,2)\n",
        "data = {'Logistic Regression':lra, 'Naive Bayes':nba, 'Decision Tree Regression':dtra,'Decision Tree Classifier':dtc}\n",
        "models = list(data.keys())\n",
        "accuracy = list(data.values())\n",
        "fig = plt.figure(figsize = (10, 5))\n",
        "plt.bar(models, accuracy, color ='orange', width = 0.4)\n",
        "\n",
        "plt.xlabel(\"Model name\")\n",
        "plt.ylabel(\"Accuray\")\n",
        "plt.title(\"Accuracy of the Models\")\n",
        "plt.show()\n",
        "print(lra,nba,dtra,dtc)"
      ]
    },
    {
      "cell_type": "code",
      "execution_count": null,
      "metadata": {
        "id": "i_co5KM7zopw"
      },
      "outputs": [],
      "source": [
        "def labeling(lb):\n",
        "\tif lb == 0:\n",
        "\t\treturn 'This is a Fake News'\n",
        "\telif lb == 1:\n",
        "\t\treturn 'This is a Real News'\n",
        "\n",
        "def predicting(testing):\n",
        "\ttextv = {'The news':[testing]}\n",
        "\tdftest = pd.DataFrame(textv)\n",
        "\tdftest['The news'] = dftest['The news'].apply(wordPreprocessing)\n",
        "\tvect = vectorizer.transform(dftest['The news'])\n",
        "\tpred_LR = LR.predict(vect)\n",
        "\tpred_NB = nb_classifier.predict(vect)\n",
        "\tpred_DTR = DTR.predict(vect)\n",
        "\tpred_DTC = DTC.predict(vect)\n",
        "\n",
        "\treturn print(\"\\n\\nLogistic Regression Prediction: {} \\nNaive Bayes Prediction: {} \\nDecision Tree Regression Prediction: {} \\nDecision Tree Classifier Prediction: {}\".format(labeling(pred_LR[0]), labeling(pred_NB[0]), labeling(pred_DTR[0]), labeling(pred_DTC[0])))\n",
        "\n",
        "\n",
        "testing = str(input(\"Write something: \"))\n",
        "predicting(testing)\n"
      ]
    }
  ],
  "metadata": {
    "colab": {
      "provenance": []
    },
    "kernelspec": {
      "display_name": "Python 3",
      "name": "python3"
    },
    "language_info": {
      "name": "python"
    }
  },
  "nbformat": 4,
  "nbformat_minor": 0
}
